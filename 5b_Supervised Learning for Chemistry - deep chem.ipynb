{
 "cells": [
  {
   "cell_type": "markdown",
   "metadata": {},
   "source": [
    "# Supervised Learning Using DeepChem\n",
    "\n",
    "This is the last notebook to do as part of this course (reinforcement learning, which is the missing third of ML is currently used less for ML, but keep an eye out for it being used more in retrosynthesis in the future). \n",
    "\n",
    "At this point, I thought I would give you some resources to continue learning from: \n",
    "\n",
    "*Paid*\n",
    "\n",
    "1. O'Reilly, 'Hands on machine learning with scikit-learn and tensorflow (2nd edition), Aurelien Geron\n",
    "https://www.oreilly.com/library/view/hands-on-machine-learning/9781492032632/\n",
    "If you were to buy one ML textbook I would get this one. It's about £40. Make sure you get the 2nd edition as that includes tensorflow2 which is the newer (and ever so much easier to use) version of tensorflow. The code used in the textbook is here: https://github.com/ageron/handson-ml2\n",
    "\n",
    "2. O-Reilly, /'Deep learning for the life sciences'/\n",
    "https://www.oreilly.com/library/view/deep-learning-for/9781492039822/\n",
    "This is OK, it has some nice deepchem examples, however, the book is rather short and half of it is biology related, so this is best a book that is borrowed from the library\n",
    "\n",
    "*Free*\n",
    "\n",
    "1. DeepChem's tutorials: \n",
    "https://github.com/deepchem/deepchem/tree/master/examples\n",
    "Download or pull these and run them in the environment set up for these notebooks. They will introduce you to deepchem and covers more material than this course was able to \n",
    "\n",
    "2. Deep Learning for hte life sciences example code\n",
    "https://github.com/deepchem/DeepLearningLifeSciences\n",
    "The code from the book above. Useful to look at if you're not able to borrow the book. \n",
    "\n",
    "You do not need to buy any books if you don't want to!"
   ]
  },
  {
   "cell_type": "markdown",
   "metadata": {},
   "source": [
    "### DeepChem\n",
    "\n",
    "You will be using several different modules here\n",
    "\n",
    "**DeepChem** [1,2] is a lovely module that has only recently appeared, and it will make using ML for chemistry so much easier! In this section we shall play with it and try to solve some chemical problems.\n",
    "\n",
    "\n",
    "**MoleculeNet** [3,4] is a series of _benchmark_ datasets for chemistry, these are standard datasets that people can use to test their algorithms against. Also, they are problems worth solving in their own right. \n",
    "\n",
    "**Tensorflow** [5] is a ML package that we met in the previous workbook, it is powerful and useful, however writing tensorflow code directly is fiddly (as least I think so!)\n",
    "\n",
    "**Keras** [6] is a module for writing, training and testing ML/neural networks (NN), it will write the correct tensorflow code for you. \n",
    "\n",
    "DeepChem contains both keras and tensorflow, so you can use those modules from within it. \n",
    "\n",
    "rdkit is a general purpose computational chemistry module which we will use for plotting molecules, but you can also use it to calculate molecular properties.\n",
    "\n",
    "[1] https://deepchem.io/\n",
    "\n",
    "[2] https://github.com/deepchem\n",
    "\n",
    "[3] Wu, Zhenqin, et al. \"MoleculeNet: a benchmark for molecular machine learning.\" Chemical science 9.2 (2018): 513-530.\n",
    "\n",
    "[4] https://deepchem.readthedocs.io/en/latest/moleculenet.html\n",
    "\n",
    "[5] https://keras.io/\n",
    "[6] https://www.tensorflow.org/"
   ]
  },
  {
   "cell_type": "code",
   "execution_count": 3,
   "metadata": {},
   "outputs": [
    {
     "name": "stdout",
     "output_type": "stream",
     "text": [
      "Collecting package metadata (current_repodata.json): done\n",
      "Solving environment: done\n",
      "\n",
      "# All requested packages already installed.\n",
      "\n"
     ]
    }
   ],
   "source": [
    "!conda install -c conda-forge scikit-learn"
   ]
  },
  {
   "cell_type": "code",
   "execution_count": 1,
   "metadata": {},
   "outputs": [
    {
     "name": "stderr",
     "output_type": "stream",
     "text": [
      "/home/ella/anaconda3/envs/ml-for-chemists-tf1/lib/python3.7/site-packages/sklearn/externals/joblib/__init__.py:15: FutureWarning: sklearn.externals.joblib is deprecated in 0.21 and will be removed in 0.23. Please import this functionality directly from joblib, which can be installed with: pip install joblib. If this warning is raised when loading pickled models, you may need to re-serialize those models with scikit-learn 0.21+.\n",
      "  warnings.warn(msg, category=FutureWarning)\n",
      "/home/ella/anaconda3/envs/ml-for-chemists-tf1/lib/python3.7/site-packages/tensorflow/python/framework/dtypes.py:516: FutureWarning: Passing (type, 1) or '1type' as a synonym of type is deprecated; in a future version of numpy, it will be understood as (type, (1,)) / '(1,)type'.\n",
      "  _np_qint8 = np.dtype([(\"qint8\", np.int8, 1)])\n",
      "/home/ella/anaconda3/envs/ml-for-chemists-tf1/lib/python3.7/site-packages/tensorflow/python/framework/dtypes.py:517: FutureWarning: Passing (type, 1) or '1type' as a synonym of type is deprecated; in a future version of numpy, it will be understood as (type, (1,)) / '(1,)type'.\n",
      "  _np_quint8 = np.dtype([(\"quint8\", np.uint8, 1)])\n",
      "/home/ella/anaconda3/envs/ml-for-chemists-tf1/lib/python3.7/site-packages/tensorflow/python/framework/dtypes.py:518: FutureWarning: Passing (type, 1) or '1type' as a synonym of type is deprecated; in a future version of numpy, it will be understood as (type, (1,)) / '(1,)type'.\n",
      "  _np_qint16 = np.dtype([(\"qint16\", np.int16, 1)])\n",
      "/home/ella/anaconda3/envs/ml-for-chemists-tf1/lib/python3.7/site-packages/tensorflow/python/framework/dtypes.py:519: FutureWarning: Passing (type, 1) or '1type' as a synonym of type is deprecated; in a future version of numpy, it will be understood as (type, (1,)) / '(1,)type'.\n",
      "  _np_quint16 = np.dtype([(\"quint16\", np.uint16, 1)])\n",
      "/home/ella/anaconda3/envs/ml-for-chemists-tf1/lib/python3.7/site-packages/tensorflow/python/framework/dtypes.py:520: FutureWarning: Passing (type, 1) or '1type' as a synonym of type is deprecated; in a future version of numpy, it will be understood as (type, (1,)) / '(1,)type'.\n",
      "  _np_qint32 = np.dtype([(\"qint32\", np.int32, 1)])\n",
      "/home/ella/anaconda3/envs/ml-for-chemists-tf1/lib/python3.7/site-packages/tensorflow/python/framework/dtypes.py:525: FutureWarning: Passing (type, 1) or '1type' as a synonym of type is deprecated; in a future version of numpy, it will be understood as (type, (1,)) / '(1,)type'.\n",
      "  np_resource = np.dtype([(\"resource\", np.ubyte, 1)])\n",
      "/home/ella/anaconda3/envs/ml-for-chemists-tf1/lib/python3.7/site-packages/tensorboard/compat/tensorflow_stub/dtypes.py:541: FutureWarning: Passing (type, 1) or '1type' as a synonym of type is deprecated; in a future version of numpy, it will be understood as (type, (1,)) / '(1,)type'.\n",
      "  _np_qint8 = np.dtype([(\"qint8\", np.int8, 1)])\n",
      "/home/ella/anaconda3/envs/ml-for-chemists-tf1/lib/python3.7/site-packages/tensorboard/compat/tensorflow_stub/dtypes.py:542: FutureWarning: Passing (type, 1) or '1type' as a synonym of type is deprecated; in a future version of numpy, it will be understood as (type, (1,)) / '(1,)type'.\n",
      "  _np_quint8 = np.dtype([(\"quint8\", np.uint8, 1)])\n",
      "/home/ella/anaconda3/envs/ml-for-chemists-tf1/lib/python3.7/site-packages/tensorboard/compat/tensorflow_stub/dtypes.py:543: FutureWarning: Passing (type, 1) or '1type' as a synonym of type is deprecated; in a future version of numpy, it will be understood as (type, (1,)) / '(1,)type'.\n",
      "  _np_qint16 = np.dtype([(\"qint16\", np.int16, 1)])\n",
      "/home/ella/anaconda3/envs/ml-for-chemists-tf1/lib/python3.7/site-packages/tensorboard/compat/tensorflow_stub/dtypes.py:544: FutureWarning: Passing (type, 1) or '1type' as a synonym of type is deprecated; in a future version of numpy, it will be understood as (type, (1,)) / '(1,)type'.\n",
      "  _np_quint16 = np.dtype([(\"quint16\", np.uint16, 1)])\n",
      "/home/ella/anaconda3/envs/ml-for-chemists-tf1/lib/python3.7/site-packages/tensorboard/compat/tensorflow_stub/dtypes.py:545: FutureWarning: Passing (type, 1) or '1type' as a synonym of type is deprecated; in a future version of numpy, it will be understood as (type, (1,)) / '(1,)type'.\n",
      "  _np_qint32 = np.dtype([(\"qint32\", np.int32, 1)])\n",
      "/home/ella/anaconda3/envs/ml-for-chemists-tf1/lib/python3.7/site-packages/tensorboard/compat/tensorflow_stub/dtypes.py:550: FutureWarning: Passing (type, 1) or '1type' as a synonym of type is deprecated; in a future version of numpy, it will be understood as (type, (1,)) / '(1,)type'.\n",
      "  np_resource = np.dtype([(\"resource\", np.ubyte, 1)])\n"
     ]
    }
   ],
   "source": [
    "# lets load our libraries\n",
    "import deepchem as dc\n",
    "from rdkit import Chem\n",
    "from rdkit.Chem import Draw\n",
    "import tensorflow as tf"
   ]
  },
  {
   "cell_type": "markdown",
   "metadata": {},
   "source": [
    "## Supervised Learning\n",
    "\n",
    "Supervised learning is when the algorithm is given the answer (target) to learn from. Essentially, the algorithm is given in the input data, it guesses a solution to get a prediction (output), and this is compared to the correct answer. Obviously the first guess is wrong, but by comparing the prediction ($\\hat{\\textbf{y}}$) to the true answer, *target* or *ground truth* (**y**) the model can *learn* and improve its predictions.\n",
    "\n",
    "Supervised learning models *fit* a *function* from *features* (**X**) to *target(s)* (**y**). For example, the features may be a set of *fingerprints* (created from a chemical structure) and the target may be a molecular property, like atomic energy, solubility, or action against a protein target.\n",
    "\n",
    "There are many supervised learning algorithms, but most the recent breakthroughs in ML have come from **neural networks** and this is what we will concentrate on here. This notebook contains chemical models, see 4_Supervised_Learning for neural networks applied to standard NN problems (vision) to help you understand how NNs work."
   ]
  },
  {
   "cell_type": "markdown",
   "metadata": {},
   "source": [
    "## Types of problems: \n",
    "\n",
    "#### Regression\n",
    "\n",
    "The regression discussed here is exactly the same as that in notebooks 1 and 2a, however as the input data is highly multidimentional (often 1000's of dimensions), the fitted function is a multi-dimensional object, for this reason we do not plot the fitted function (as we did in the Linear_Regression_Cellulose notebook). Instead, we are interested in how well the model *predicts* the training set data, and *generalises* to the test data. \n",
    "\n",
    "Regression models can be thought of as fitting a function:\n",
    "$$\n",
    "\\textbf{X} \\rightarrow Model \\rightarrow \\textbf{y}\n",
    "$$\n",
    "\n",
    "where **y** is usually a number. \n",
    "\n",
    "#### Classificiation\n",
    "\n",
    "Classification models assign input data to a *category*. For example, matching a molecular structure to the category 'active against HIV protein'. See notebook 4 for more examples. \n",
    "\n",
    "#### Generation\n",
    "\n",
    "Generative models produce new examples of the input after training. For example, you might train a variational autoencoder on molecular structures and then use it to generate novel molecular structures. \n",
    "\n",
    "In this document we shall train some regression and classification models."
   ]
  },
  {
   "cell_type": "markdown",
   "metadata": {},
   "source": [
    "## Datasets\n",
    "\n",
    "When training an ML algorithm, it is common practice to split your data into 2 or 3 datasets:\n",
    "\n",
    "1. Train: this is the majority of the data, and it is used to train the ML algorithm. \n",
    "2. Test: this is data that is NEVER shown to the algorithm during training and only used at the end to test the algorithm.\n",
    "3. Validation: this is data that is not used for training but is used to test the algorithm during training (validate the algorithm). \n",
    "\n",
    "The point of building supervised ML algorithms is not generally to describe your data, but to use the model in the future to predict **y** for new data. For example, in the IMPRESSION NMR prediction program [[]] input molecular structure is mapped to output chemical shifts. This is not used to model what the NMR is for the molecules in the dataset (as we already know that, we used it to train the algorithm in the first place!), but to predict the chemical shifts for an unseen molecule, for example, one that a synthetic chemist has just made.\n",
    "\n",
    "The test set is held out and not used for training to get an idea how an algorithm will work on as-yet-unseens data. N.B. This is the equivalent of the leave-one-out approach used in design of experiments and regression models, only here instead of leaving a single datapoint out of a small dataset, we leave a fraction (usually 10%) out. \n",
    "\n",
    "As ML algorithms have such a large degree of power to fit data, they have the problem of *over-fitting*, where the algorithm learns to memorise the dataset, and this makes the algorithm less useful for generalisation. So, we use the validation dataset as a practise test set. The algorithm is tested on this dataset after every epoch of training, and overfitting happens once the validation set stops improving. \n",
    "\n",
    "Common splits for the data are:\n",
    "Train: 90% : Test: 10% \n",
    "or Train: 80%, Validation: 10%, Test: 10%"
   ]
  },
  {
   "cell_type": "markdown",
   "metadata": {},
   "source": [
    "## Delaney Dataset for drug solubility\n",
    "\n",
    "The Delaney (ESOL) dataset [7] a regression dataset containing structures and water solubility data for 1128 compounds. The dataset is widely used to validate machine learning models on estimating solubility directly from molecular structures (as encoded in SMILES strings). Solubility is vital to achieve desired concentration of drug for anticipated pharmacological response. \n",
    "\n",
    "[7] Delaney, J. S. *Journal of Chemical Information and Modeling*, **44**, 1000–1005 (2004)"
   ]
  },
  {
   "cell_type": "markdown",
   "metadata": {},
   "source": [
    "DeepChem has methods to load datasets:"
   ]
  },
  {
   "cell_type": "code",
   "execution_count": 2,
   "metadata": {},
   "outputs": [
    {
     "name": "stdout",
     "output_type": "stream",
     "text": [
      "Loading raw samples now.\n",
      "shard_size: 8192\n",
      "About to start loading CSV from /tmp/delaney-processed.csv\n",
      "Loading shard 1 of size 8192.\n",
      "Featurizing sample 0\n",
      "Featurizing sample 1000\n",
      "TIMING: featurizing shard 0 took 1.254 s\n",
      "TIMING: dataset construction took 1.295 s\n",
      "Loading dataset from disk.\n",
      "TIMING: dataset construction took 0.044 s\n",
      "Loading dataset from disk.\n",
      "TIMING: dataset construction took 0.017 s\n",
      "Loading dataset from disk.\n",
      "TIMING: dataset construction took 0.021 s\n",
      "Loading dataset from disk.\n",
      "TIMING: dataset construction took 0.031 s\n",
      "Loading dataset from disk.\n",
      "TIMING: dataset construction took 0.006 s\n",
      "Loading dataset from disk.\n",
      "TIMING: dataset construction took 0.006 s\n",
      "Loading dataset from disk.\n"
     ]
    }
   ],
   "source": [
    "# this line loads the Delaney dataset\n",
    "tasks, datasets, transformers = dc.molnet.load_delaney(featurizer='ECFP')\n",
    "# the datasets object is already split into the train, validation and test dataset \n",
    "train_dataset, valid_dataset, test_dataset = datasets"
   ]
  },
  {
   "cell_type": "markdown",
   "metadata": {},
   "source": [
    "Here is some example data from the test set. There are 1049 features generated from the SMILES strings (scroll right to see the SMILES). "
   ]
  },
  {
   "cell_type": "code",
   "execution_count": 3,
   "metadata": {},
   "outputs": [
    {
     "ename": "AttributeError",
     "evalue": "'DiskDataset' object has no attribute 'to_dataframe'",
     "output_type": "error",
     "traceback": [
      "\u001b[0;31m---------------------------------------------------------------------------\u001b[0m",
      "\u001b[0;31mAttributeError\u001b[0m                            Traceback (most recent call last)",
      "\u001b[0;32m<ipython-input-3-86704f3797ed>\u001b[0m in \u001b[0;36m<module>\u001b[0;34m\u001b[0m\n\u001b[0;32m----> 1\u001b[0;31m \u001b[0mtest_dataset\u001b[0m\u001b[0;34m.\u001b[0m\u001b[0mto_dataframe\u001b[0m\u001b[0;34m(\u001b[0m\u001b[0;34m)\u001b[0m\u001b[0;34m.\u001b[0m\u001b[0mhead\u001b[0m\u001b[0;34m(\u001b[0m\u001b[0;34m)\u001b[0m\u001b[0;34m\u001b[0m\u001b[0;34m\u001b[0m\u001b[0m\n\u001b[0m",
      "\u001b[0;31mAttributeError\u001b[0m: 'DiskDataset' object has no attribute 'to_dataframe'"
     ]
    }
   ],
   "source": [
    "test_dataset.to_dataframe().head()"
   ]
  },
  {
   "cell_type": "markdown",
   "metadata": {},
   "source": [
    "#### Featurizing inputs\n",
    "\n",
    "To build a NN that can categorize images (i.e. map a picture of a cat to 'cat') you use images at inputs.\n",
    "\n",
    "It is not immediately obvious to know how best to input molecular structure. SMILES strings are designed to computer readable formulae, these can be convereted to test inputs (strings). There are several ways to extract the information from molecular structure, and this is called featurizing the molecule. \n",
    "\n",
    "Some examples:\n",
    "\n",
    "*SMILES strings*: 'Cc1cc(=O)[nH]c(=S)[nH]1'\n",
    "\n",
    "*Molecular descriptors*: a list of physicochemical properties about the molecule, for example: molecular weight, boiling point, dipole moment etc (these were used in notebook 2 and called `solvent parameters`).\n",
    "\n",
    "*Molecular graphs*: the chemical formula (as you would draw by hand)\n",
    "\n",
    "*Extended Connectiviy FingerPrints (ECFP)*: this is a vector of 1s and 0s that indicates the presence of absence of features like atoms, functional groups, number of covalent bonds etc. This is the featurization that we're using here.\n",
    "\n",
    "*voxels*: a voxel is a 3-D pixel, i.e. a cube of space. This featurisation encodes 3D structural data by indicating hte presence or absence of an atom in that cube of space."
   ]
  },
  {
   "cell_type": "markdown",
   "metadata": {},
   "source": [
    " The code below tells you about the dataset. \n",
    " `X` (the input) has 113 rows (corresponding to 113 molecules) and 1024 columns corresponding to 1024 features, with `ids` (identification) which are SMILEs strings,\n",
    " and `task_names` which is the name of the target, in this case, the `measured log solubility in mols per litre` for the molecule."
   ]
  },
  {
   "cell_type": "code",
   "execution_count": 4,
   "metadata": {},
   "outputs": [
    {
     "name": "stdout",
     "output_type": "stream",
     "text": [
      "<deepchem.data.datasets.DiskDataset object at 0x7fe2b8970cd0>\n"
     ]
    }
   ],
   "source": [
    "print(test_dataset)"
   ]
  },
  {
   "cell_type": "markdown",
   "metadata": {},
   "source": [
    "### Looking at the molecules\n",
    "\n",
    "To display a molecular graph (or chemical formula, as you know it) we use `rdkit`'s `Chem` module imported above to read SMILEs strings: "
   ]
  },
  {
   "cell_type": "markdown",
   "metadata": {},
   "source": [
    "Look, a molecule!"
   ]
  },
  {
   "cell_type": "code",
   "execution_count": 5,
   "metadata": {},
   "outputs": [
    {
     "data": {
      "image/png": "[encoded data removed]",
      "text/plain": [
       "<rdkit.Chem.rdchem.Mol at 0x7fe2b8879850>"
      ]
     },
     "execution_count": 5,
     "metadata": {},
     "output_type": "execute_result"
    }
   ],
   "source": [
    "molecule='Oc1ccc(cc1)C2(OC(=O)c3ccccc23)c4ccc(O)cc4 '\n",
    "Chem.MolFromSmiles(molecule)"
   ]
  },
  {
   "cell_type": "markdown",
   "metadata": {},
   "source": [
    "## Random Forest Regression"
   ]
  },
  {
   "cell_type": "markdown",
   "metadata": {},
   "source": [
    "A *decision tree* is a simple ML algorithm which is basically a flow chart of yes/no questions. For example:\n",
    "\n",
    "\n",
    "`-OH present?\n",
    "    yes -->\n",
    "        C=0 present?\n",
    "            yes --> carboxylic acid\n",
    "            no --> alcohol\n",
    "    no --> etc `\n",
    "\n",
    "A *random forest* is a collection (a forest in fact) of decision trees. see:\n",
    "https://towardsdatascience.com/understanding-random-forest-58381e0602d2\n",
    "\n",
    "Random forests are simple ML algorithms, and as such they are easy to tune and are a good algorithm to start with. They are often then used as a benchmark (to beat) for more complicated algorithms."
   ]
  },
  {
   "cell_type": "code",
   "execution_count": 6,
   "metadata": {},
   "outputs": [],
   "source": [
    "# this loads in the method used to create the RandomForestRegerssor model\n",
    "from sklearn.ensemble import RandomForestRegressor\n",
    "\n",
    "# This line creates a new Random forest regressor object, which we give the name: RF_model\n",
    "# this is an Sklearn model\n",
    "RF_model = RandomForestRegressor(n_estimators=100)\n",
    "# This line tells deepchem that RF_model is a SKleanr model and gives it a new name: model\n",
    "model = dc.models.SklearnModel(RF_model)\n",
    "############################################\n",
    "# Now we fit the training dataset!             #\n",
    "############################################\n",
    "model.fit(train_dataset)"
   ]
  },
  {
   "cell_type": "markdown",
   "metadata": {},
   "source": [
    "To find out how well our model performs, we use what is called a *metric*. The word metric basically means a ruler, and we use it to measure the model. \n",
    "\n",
    "For regression models, the most commonly used metric is the R$^2$ score (technically called the Pearson R$^2$ score). This is the R$^2$ we met in the linear regression workbook. \n",
    "\n",
    "A high R$^2$ on the training dataset tells us that the model is learning well. \n",
    "A high R$^2$ on the test dataset tells us that we have a good model for generalisation, i.e. one that is useful!\n",
    "\n",
    "Note that the `transformer` is the method we used to put the data in the correct format (we got that from the dataset above)."
   ]
  },
  {
   "cell_type": "code",
   "execution_count": 7,
   "metadata": {},
   "outputs": [
    {
     "name": "stdout",
     "output_type": "stream",
     "text": [
      "computed_metrics: [0.9516246378795497]\n",
      "Training set score: {'pearson_r2_score': 0.9516246378795497}\n",
      "computed_metrics: [0.6805611900346754]\n",
      "Test set score: {'pearson_r2_score': 0.6805611900346754}\n"
     ]
    }
   ],
   "source": [
    "# this line tells deepchem what metric to use to score the datasets\n",
    "metric = dc.metrics.Metric(dc.metrics.pearson_r2_score)\n",
    "\n",
    "# model.evaluate() tests the model. \n",
    "# we have to give it the data to use, the metric (or set of metrics) and the transformer used\n",
    "\n",
    "print(\"Training set score:\", model.evaluate(train_dataset, [metric], transformers))\n",
    "print(\"Test set score:\", model.evaluate(test_dataset, [metric], transformers))"
   ]
  },
  {
   "cell_type": "markdown",
   "metadata": {},
   "source": [
    "As you can see, the random forest trains well on the data, but does not make a good predictive model.\n",
    "\n",
    "Let's see what those predictions are:"
   ]
  },
  {
   "cell_type": "code",
   "execution_count": 8,
   "metadata": {},
   "outputs": [
    {
     "name": "stdout",
     "output_type": "stream",
     "text": [
      "\tSolubility\t\tMolecule\n",
      "Predicted\tActual\t\t\n",
      "\n",
      "-1.16\t\t-1.71\t\tC1c2ccccc2c3ccc4ccccc4c13\n",
      "-0.0844\t\t0.291\t\tCOc1ccccc1Cl\n",
      "-1.15\t\t-1.43\t\tCOP(=S)(OC)Oc1cc(Cl)c(Br)cc1Cl\n",
      "-0.591\t\t-0.925\t\tClC(Cl)CC(=O)NC2=C(Cl)C(=O)c1ccccc1C2=O\n",
      "-1.57\t\t-1.95\t\tClC(Cl)C(c1ccc(Cl)cc1)c2ccc(Cl)cc2 \n",
      "1.27\t\t1.35\t\tCOC(=O)C=C\n",
      "-0.113\t\t-0.859\t\tCN(C)C(=O)Nc2ccc(Oc1ccc(Cl)cc1)cc2\n",
      "0.368\t\t-0.651\t\tN(=Nc1ccccc1)c2ccccc2\n",
      "-0.488\t\t-0.329\t\tCC(C)c1ccc(C)cc1\n",
      "0.2\t\t0.608\t\tOc1c(Cl)cccc1Cl\n",
      "1.18\t\t1.83\t\tOCC2OC(OC1(CO)OC(CO)C(O)C1O)C(O)C(O)C2O \n",
      "1.23\t\t1.62\t\tOC1C(O)C(O)C(O)C(O)C1O\n"
     ]
    }
   ],
   "source": [
    "# this line picks a batch of 12 molecules and gets the predicted solubilities\n",
    "solubilities = model.predict_on_batch(test_dataset.X[:12])\n",
    "# this grabs the first 12 smiles strings as well\n",
    "SMILES_strings = test_dataset.ids[:12]\n",
    "# this line picks a batch of 12 molecules and gets the predicted solubilities\n",
    "ground_truth = test_dataset.y[:12]\n",
    "# this makes an empty list called mol_list\n",
    "mol_list=[]\n",
    "print('\\tSolubility\\t\\tMolecule')\n",
    "print('Predicted\\tActual\\t\\t\\n')\n",
    "# this loops over the numbers 0 to 11 ...\n",
    "for i in range(12):\n",
    "    print(\"{:.3}\\t\\t{:.3}\\t\\t{}\".format(solubilities[i], ground_truth[i][0], SMILES_strings[i]))"
   ]
  },
  {
   "cell_type": "code",
   "execution_count": 9,
   "metadata": {},
   "outputs": [
    {
     "data": {
      "image/png": "[encoded data removed]",
      "text/plain": [
       "<IPython.core.display.Image object>"
      ]
     },
     "execution_count": 9,
     "metadata": {},
     "output_type": "execute_result"
    }
   ],
   "source": [
    "# and this draws a nice image of the 12 molecules\n",
    "ms = [Chem.MolFromSmiles(x) for x in SMILES_strings]\n",
    "Draw.MolsToGridImage(ms)"
   ]
  },
  {
   "cell_type": "markdown",
   "metadata": {},
   "source": [
    "## Graph convolution networks\n",
    "\n",
    "So the random forest wasn't that great a predictive model, can we do better?\n",
    "\n",
    "Neural networks are very powerful supervised learning algorithms, and we're going to use one specialised for molecular graphs (like those shown above). \n",
    "\n",
    "to do this we reload the Delaney dataset, this time using the graph convolution featurizer."
   ]
  },
  {
   "cell_type": "code",
   "execution_count": 10,
   "metadata": {},
   "outputs": [
    {
     "name": "stdout",
     "output_type": "stream",
     "text": [
      "Loading raw samples now.\n",
      "shard_size: 8192\n",
      "About to start loading CSV from /tmp/delaney-processed.csv\n",
      "Loading shard 1 of size 8192.\n",
      "Featurizing sample 0\n",
      "Featurizing sample 1000\n",
      "TIMING: featurizing shard 0 took 0.973 s\n",
      "TIMING: dataset construction took 1.155 s\n",
      "Loading dataset from disk.\n",
      "TIMING: dataset construction took 0.187 s\n",
      "Loading dataset from disk.\n",
      "TIMING: dataset construction took 0.133 s\n",
      "Loading dataset from disk.\n",
      "TIMING: dataset construction took 0.079 s\n",
      "Loading dataset from disk.\n",
      "TIMING: dataset construction took 0.218 s\n",
      "Loading dataset from disk.\n",
      "TIMING: dataset construction took 0.023 s\n",
      "Loading dataset from disk.\n",
      "TIMING: dataset construction took 0.024 s\n",
      "Loading dataset from disk.\n"
     ]
    }
   ],
   "source": [
    "tasks, datasets, transformers = dc.molnet.load_delaney(featurizer='GraphConv')\n",
    "train_dataset, valid_dataset, test_dataset = datasets"
   ]
  },
  {
   "cell_type": "markdown",
   "metadata": {},
   "source": [
    "This is the code to make a graph convolution model. \n",
    "\n",
    "`Dropout` is a technique to avoide over-fitting, it randomly disconnects some of the neurons in the neural network forcing the algorithm to involve many neurons in the task."
   ]
  },
  {
   "cell_type": "code",
   "execution_count": 11,
   "metadata": {},
   "outputs": [
    {
     "name": "stdout",
     "output_type": "stream",
     "text": [
      "WARNING:tensorflow:From /home/ella/anaconda3/envs/ml-for-chemists-tf1/lib/python3.7/site-packages/tensorflow/python/ops/init_ops.py:1251: calling VarianceScaling.__init__ (from tensorflow.python.ops.init_ops) with dtype is deprecated and will be removed in a future version.\n",
      "Instructions for updating:\n",
      "Call initializer instance with the dtype argument instead of passing it to the constructor\n",
      "WARNING:tensorflow:Entity <bound method GraphConv.call of <deepchem.models.layers.GraphConv object at 0x7fe2b8830490>> could not be transformed and will be executed as-is. Please report this to the AutgoGraph team. When filing the bug, set the verbosity to 10 (on Linux, `export AUTOGRAPH_VERBOSITY=10`) and attach the full output. Cause: converting <bound method GraphConv.call of <deepchem.models.layers.GraphConv object at 0x7fe2b8830490>>: AttributeError: module 'gast' has no attribute 'Index'\n",
      "WARNING: Entity <bound method GraphConv.call of <deepchem.models.layers.GraphConv object at 0x7fe2b8830490>> could not be transformed and will be executed as-is. Please report this to the AutgoGraph team. When filing the bug, set the verbosity to 10 (on Linux, `export AUTOGRAPH_VERBOSITY=10`) and attach the full output. Cause: converting <bound method GraphConv.call of <deepchem.models.layers.GraphConv object at 0x7fe2b8830490>>: AttributeError: module 'gast' has no attribute 'Index'\n",
      "WARNING:tensorflow:Entity <bound method SwitchedDropout.call of <deepchem.models.layers.SwitchedDropout object at 0x7fe2b883fb50>> could not be transformed and will be executed as-is. Please report this to the AutgoGraph team. When filing the bug, set the verbosity to 10 (on Linux, `export AUTOGRAPH_VERBOSITY=10`) and attach the full output. Cause: converting <bound method SwitchedDropout.call of <deepchem.models.layers.SwitchedDropout object at 0x7fe2b883fb50>>: AttributeError: module 'gast' has no attribute 'Index'\n",
      "WARNING: Entity <bound method SwitchedDropout.call of <deepchem.models.layers.SwitchedDropout object at 0x7fe2b883fb50>> could not be transformed and will be executed as-is. Please report this to the AutgoGraph team. When filing the bug, set the verbosity to 10 (on Linux, `export AUTOGRAPH_VERBOSITY=10`) and attach the full output. Cause: converting <bound method SwitchedDropout.call of <deepchem.models.layers.SwitchedDropout object at 0x7fe2b883fb50>>: AttributeError: module 'gast' has no attribute 'Index'\n",
      "WARNING:tensorflow:Entity <bound method GraphPool.call of <deepchem.models.layers.GraphPool object at 0x7fe2b8273e90>> could not be transformed and will be executed as-is. Please report this to the AutgoGraph team. When filing the bug, set the verbosity to 10 (on Linux, `export AUTOGRAPH_VERBOSITY=10`) and attach the full output. Cause: converting <bound method GraphPool.call of <deepchem.models.layers.GraphPool object at 0x7fe2b8273e90>>: AttributeError: module 'gast' has no attribute 'Index'\n",
      "WARNING: Entity <bound method GraphPool.call of <deepchem.models.layers.GraphPool object at 0x7fe2b8273e90>> could not be transformed and will be executed as-is. Please report this to the AutgoGraph team. When filing the bug, set the verbosity to 10 (on Linux, `export AUTOGRAPH_VERBOSITY=10`) and attach the full output. Cause: converting <bound method GraphPool.call of <deepchem.models.layers.GraphPool object at 0x7fe2b8273e90>>: AttributeError: module 'gast' has no attribute 'Index'\n",
      "WARNING:tensorflow:Entity <bound method GraphConv.call of <deepchem.models.layers.GraphConv object at 0x7fe2b862db90>> could not be transformed and will be executed as-is. Please report this to the AutgoGraph team. When filing the bug, set the verbosity to 10 (on Linux, `export AUTOGRAPH_VERBOSITY=10`) and attach the full output. Cause: converting <bound method GraphConv.call of <deepchem.models.layers.GraphConv object at 0x7fe2b862db90>>: AttributeError: module 'gast' has no attribute 'Index'\n",
      "WARNING: Entity <bound method GraphConv.call of <deepchem.models.layers.GraphConv object at 0x7fe2b862db90>> could not be transformed and will be executed as-is. Please report this to the AutgoGraph team. When filing the bug, set the verbosity to 10 (on Linux, `export AUTOGRAPH_VERBOSITY=10`) and attach the full output. Cause: converting <bound method GraphConv.call of <deepchem.models.layers.GraphConv object at 0x7fe2b862db90>>: AttributeError: module 'gast' has no attribute 'Index'\n",
      "WARNING:tensorflow:Entity <bound method SwitchedDropout.call of <deepchem.models.layers.SwitchedDropout object at 0x7fe2b87c5ed0>> could not be transformed and will be executed as-is. Please report this to the AutgoGraph team. When filing the bug, set the verbosity to 10 (on Linux, `export AUTOGRAPH_VERBOSITY=10`) and attach the full output. Cause: converting <bound method SwitchedDropout.call of <deepchem.models.layers.SwitchedDropout object at 0x7fe2b87c5ed0>>: AttributeError: module 'gast' has no attribute 'Index'\n",
      "WARNING: Entity <bound method SwitchedDropout.call of <deepchem.models.layers.SwitchedDropout object at 0x7fe2b87c5ed0>> could not be transformed and will be executed as-is. Please report this to the AutgoGraph team. When filing the bug, set the verbosity to 10 (on Linux, `export AUTOGRAPH_VERBOSITY=10`) and attach the full output. Cause: converting <bound method SwitchedDropout.call of <deepchem.models.layers.SwitchedDropout object at 0x7fe2b87c5ed0>>: AttributeError: module 'gast' has no attribute 'Index'\n",
      "WARNING:tensorflow:Entity <bound method GraphPool.call of <deepchem.models.layers.GraphPool object at 0x7fe2b394d990>> could not be transformed and will be executed as-is. Please report this to the AutgoGraph team. When filing the bug, set the verbosity to 10 (on Linux, `export AUTOGRAPH_VERBOSITY=10`) and attach the full output. Cause: converting <bound method GraphPool.call of <deepchem.models.layers.GraphPool object at 0x7fe2b394d990>>: AttributeError: module 'gast' has no attribute 'Index'\n",
      "WARNING: Entity <bound method GraphPool.call of <deepchem.models.layers.GraphPool object at 0x7fe2b394d990>> could not be transformed and will be executed as-is. Please report this to the AutgoGraph team. When filing the bug, set the verbosity to 10 (on Linux, `export AUTOGRAPH_VERBOSITY=10`) and attach the full output. Cause: converting <bound method GraphPool.call of <deepchem.models.layers.GraphPool object at 0x7fe2b394d990>>: AttributeError: module 'gast' has no attribute 'Index'\n",
      "WARNING:tensorflow:Entity <bound method SwitchedDropout.call of <deepchem.models.layers.SwitchedDropout object at 0x7fe2b3897190>> could not be transformed and will be executed as-is. Please report this to the AutgoGraph team. When filing the bug, set the verbosity to 10 (on Linux, `export AUTOGRAPH_VERBOSITY=10`) and attach the full output. Cause: converting <bound method SwitchedDropout.call of <deepchem.models.layers.SwitchedDropout object at 0x7fe2b3897190>>: AttributeError: module 'gast' has no attribute 'Index'\n",
      "WARNING: Entity <bound method SwitchedDropout.call of <deepchem.models.layers.SwitchedDropout object at 0x7fe2b3897190>> could not be transformed and will be executed as-is. Please report this to the AutgoGraph team. When filing the bug, set the verbosity to 10 (on Linux, `export AUTOGRAPH_VERBOSITY=10`) and attach the full output. Cause: converting <bound method SwitchedDropout.call of <deepchem.models.layers.SwitchedDropout object at 0x7fe2b3897190>>: AttributeError: module 'gast' has no attribute 'Index'\n",
      "WARNING:tensorflow:Entity <bound method GraphGather.call of <deepchem.models.layers.GraphGather object at 0x7fe2b8372690>> could not be transformed and will be executed as-is. Please report this to the AutgoGraph team. When filing the bug, set the verbosity to 10 (on Linux, `export AUTOGRAPH_VERBOSITY=10`) and attach the full output. Cause: converting <bound method GraphGather.call of <deepchem.models.layers.GraphGather object at 0x7fe2b8372690>>: AttributeError: module 'gast' has no attribute 'Index'\n",
      "WARNING: Entity <bound method GraphGather.call of <deepchem.models.layers.GraphGather object at 0x7fe2b8372690>> could not be transformed and will be executed as-is. Please report this to the AutgoGraph team. When filing the bug, set the verbosity to 10 (on Linux, `export AUTOGRAPH_VERBOSITY=10`) and attach the full output. Cause: converting <bound method GraphGather.call of <deepchem.models.layers.GraphGather object at 0x7fe2b8372690>>: AttributeError: module 'gast' has no attribute 'Index'\n",
      "WARNING:tensorflow:From /home/ella/anaconda3/envs/ml-for-chemists-tf1/lib/python3.7/site-packages/deepchem/models/layers.py:194: The name tf.unsorted_segment_sum is deprecated. Please use tf.math.unsorted_segment_sum instead.\n",
      "\n"
     ]
    },
    {
     "name": "stdout",
     "output_type": "stream",
     "text": [
      "WARNING:tensorflow:From /home/ella/anaconda3/envs/ml-for-chemists-tf1/lib/python3.7/site-packages/deepchem/models/layers.py:196: The name tf.unsorted_segment_max is deprecated. Please use tf.math.unsorted_segment_max instead.\n",
      "\n",
      "WARNING:tensorflow:Entity <bound method TrimGraphOutput.call of <deepchem.models.graph_models.TrimGraphOutput object at 0x7fe2b3b942d0>> could not be transformed and will be executed as-is. Please report this to the AutgoGraph team. When filing the bug, set the verbosity to 10 (on Linux, `export AUTOGRAPH_VERBOSITY=10`) and attach the full output. Cause: converting <bound method TrimGraphOutput.call of <deepchem.models.graph_models.TrimGraphOutput object at 0x7fe2b3b942d0>>: AttributeError: module 'gast' has no attribute 'Index'\n",
      "WARNING: Entity <bound method TrimGraphOutput.call of <deepchem.models.graph_models.TrimGraphOutput object at 0x7fe2b3b942d0>> could not be transformed and will be executed as-is. Please report this to the AutgoGraph team. When filing the bug, set the verbosity to 10 (on Linux, `export AUTOGRAPH_VERBOSITY=10`) and attach the full output. Cause: converting <bound method TrimGraphOutput.call of <deepchem.models.graph_models.TrimGraphOutput object at 0x7fe2b3b942d0>>: AttributeError: module 'gast' has no attribute 'Index'\n"
     ]
    }
   ],
   "source": [
    "# we build a graph convolutional model and call it model\n",
    "model = dc.models.GraphConvModel(n_tasks=1, mode='regression', dropout=0.2)"
   ]
  },
  {
   "cell_type": "code",
   "execution_count": 12,
   "metadata": {},
   "outputs": [
    {
     "name": "stdout",
     "output_type": "stream",
     "text": [
      "WARNING:tensorflow:From /home/ella/anaconda3/envs/ml-for-chemists-tf1/lib/python3.7/site-packages/deepchem/models/keras_model.py:169: The name tf.Session is deprecated. Please use tf.compat.v1.Session instead.\n",
      "\n",
      "WARNING:tensorflow:From /home/ella/anaconda3/envs/ml-for-chemists-tf1/lib/python3.7/site-packages/deepchem/models/optimizers.py:76: The name tf.train.AdamOptimizer is deprecated. Please use tf.compat.v1.train.AdamOptimizer instead.\n",
      "\n",
      "WARNING:tensorflow:From /home/ella/anaconda3/envs/ml-for-chemists-tf1/lib/python3.7/site-packages/deepchem/models/keras_model.py:258: The name tf.global_variables is deprecated. Please use tf.compat.v1.global_variables instead.\n",
      "\n",
      "WARNING:tensorflow:From /home/ella/anaconda3/envs/ml-for-chemists-tf1/lib/python3.7/site-packages/deepchem/models/keras_model.py:260: The name tf.variables_initializer is deprecated. Please use tf.compat.v1.variables_initializer instead.\n",
      "\n",
      "WARNING:tensorflow:Entity <bound method GraphConv.call of <deepchem.models.layers.GraphConv object at 0x7fe2b8830490>> could not be transformed and will be executed as-is. Please report this to the AutgoGraph team. When filing the bug, set the verbosity to 10 (on Linux, `export AUTOGRAPH_VERBOSITY=10`) and attach the full output. Cause: converting <bound method GraphConv.call of <deepchem.models.layers.GraphConv object at 0x7fe2b8830490>>: AttributeError: module 'gast' has no attribute 'Index'\n",
      "WARNING: Entity <bound method GraphConv.call of <deepchem.models.layers.GraphConv object at 0x7fe2b8830490>> could not be transformed and will be executed as-is. Please report this to the AutgoGraph team. When filing the bug, set the verbosity to 10 (on Linux, `export AUTOGRAPH_VERBOSITY=10`) and attach the full output. Cause: converting <bound method GraphConv.call of <deepchem.models.layers.GraphConv object at 0x7fe2b8830490>>: AttributeError: module 'gast' has no attribute 'Index'\n",
      "WARNING:tensorflow:Entity <bound method SwitchedDropout.call of <deepchem.models.layers.SwitchedDropout object at 0x7fe2b883fb50>> could not be transformed and will be executed as-is. Please report this to the AutgoGraph team. When filing the bug, set the verbosity to 10 (on Linux, `export AUTOGRAPH_VERBOSITY=10`) and attach the full output. Cause: converting <bound method SwitchedDropout.call of <deepchem.models.layers.SwitchedDropout object at 0x7fe2b883fb50>>: AttributeError: module 'gast' has no attribute 'Index'\n",
      "WARNING: Entity <bound method SwitchedDropout.call of <deepchem.models.layers.SwitchedDropout object at 0x7fe2b883fb50>> could not be transformed and will be executed as-is. Please report this to the AutgoGraph team. When filing the bug, set the verbosity to 10 (on Linux, `export AUTOGRAPH_VERBOSITY=10`) and attach the full output. Cause: converting <bound method SwitchedDropout.call of <deepchem.models.layers.SwitchedDropout object at 0x7fe2b883fb50>>: AttributeError: module 'gast' has no attribute 'Index'\n",
      "WARNING:tensorflow:Entity <bound method GraphPool.call of <deepchem.models.layers.GraphPool object at 0x7fe2b8273e90>> could not be transformed and will be executed as-is. Please report this to the AutgoGraph team. When filing the bug, set the verbosity to 10 (on Linux, `export AUTOGRAPH_VERBOSITY=10`) and attach the full output. Cause: converting <bound method GraphPool.call of <deepchem.models.layers.GraphPool object at 0x7fe2b8273e90>>: AttributeError: module 'gast' has no attribute 'Index'\n",
      "WARNING: Entity <bound method GraphPool.call of <deepchem.models.layers.GraphPool object at 0x7fe2b8273e90>> could not be transformed and will be executed as-is. Please report this to the AutgoGraph team. When filing the bug, set the verbosity to 10 (on Linux, `export AUTOGRAPH_VERBOSITY=10`) and attach the full output. Cause: converting <bound method GraphPool.call of <deepchem.models.layers.GraphPool object at 0x7fe2b8273e90>>: AttributeError: module 'gast' has no attribute 'Index'\n",
      "WARNING:tensorflow:Entity <bound method GraphConv.call of <deepchem.models.layers.GraphConv object at 0x7fe2b862db90>> could not be transformed and will be executed as-is. Please report this to the AutgoGraph team. When filing the bug, set the verbosity to 10 (on Linux, `export AUTOGRAPH_VERBOSITY=10`) and attach the full output. Cause: converting <bound method GraphConv.call of <deepchem.models.layers.GraphConv object at 0x7fe2b862db90>>: AttributeError: module 'gast' has no attribute 'Index'\n",
      "WARNING: Entity <bound method GraphConv.call of <deepchem.models.layers.GraphConv object at 0x7fe2b862db90>> could not be transformed and will be executed as-is. Please report this to the AutgoGraph team. When filing the bug, set the verbosity to 10 (on Linux, `export AUTOGRAPH_VERBOSITY=10`) and attach the full output. Cause: converting <bound method GraphConv.call of <deepchem.models.layers.GraphConv object at 0x7fe2b862db90>>: AttributeError: module 'gast' has no attribute 'Index'\n",
      "WARNING:tensorflow:Entity <bound method SwitchedDropout.call of <deepchem.models.layers.SwitchedDropout object at 0x7fe2b87c5ed0>> could not be transformed and will be executed as-is. Please report this to the AutgoGraph team. When filing the bug, set the verbosity to 10 (on Linux, `export AUTOGRAPH_VERBOSITY=10`) and attach the full output. Cause: converting <bound method SwitchedDropout.call of <deepchem.models.layers.SwitchedDropout object at 0x7fe2b87c5ed0>>: AttributeError: module 'gast' has no attribute 'Index'\n",
      "WARNING: Entity <bound method SwitchedDropout.call of <deepchem.models.layers.SwitchedDropout object at 0x7fe2b87c5ed0>> could not be transformed and will be executed as-is. Please report this to the AutgoGraph team. When filing the bug, set the verbosity to 10 (on Linux, `export AUTOGRAPH_VERBOSITY=10`) and attach the full output. Cause: converting <bound method SwitchedDropout.call of <deepchem.models.layers.SwitchedDropout object at 0x7fe2b87c5ed0>>: AttributeError: module 'gast' has no attribute 'Index'\n",
      "WARNING:tensorflow:Entity <bound method GraphPool.call of <deepchem.models.layers.GraphPool object at 0x7fe2b394d990>> could not be transformed and will be executed as-is. Please report this to the AutgoGraph team. When filing the bug, set the verbosity to 10 (on Linux, `export AUTOGRAPH_VERBOSITY=10`) and attach the full output. Cause: converting <bound method GraphPool.call of <deepchem.models.layers.GraphPool object at 0x7fe2b394d990>>: AttributeError: module 'gast' has no attribute 'Index'\n",
      "WARNING: Entity <bound method GraphPool.call of <deepchem.models.layers.GraphPool object at 0x7fe2b394d990>> could not be transformed and will be executed as-is. Please report this to the AutgoGraph team. When filing the bug, set the verbosity to 10 (on Linux, `export AUTOGRAPH_VERBOSITY=10`) and attach the full output. Cause: converting <bound method GraphPool.call of <deepchem.models.layers.GraphPool object at 0x7fe2b394d990>>: AttributeError: module 'gast' has no attribute 'Index'\n",
      "WARNING:tensorflow:Entity <bound method SwitchedDropout.call of <deepchem.models.layers.SwitchedDropout object at 0x7fe2b3897190>> could not be transformed and will be executed as-is. Please report this to the AutgoGraph team. When filing the bug, set the verbosity to 10 (on Linux, `export AUTOGRAPH_VERBOSITY=10`) and attach the full output. Cause: converting <bound method SwitchedDropout.call of <deepchem.models.layers.SwitchedDropout object at 0x7fe2b3897190>>: AttributeError: module 'gast' has no attribute 'Index'\n",
      "WARNING: Entity <bound method SwitchedDropout.call of <deepchem.models.layers.SwitchedDropout object at 0x7fe2b3897190>> could not be transformed and will be executed as-is. Please report this to the AutgoGraph team. When filing the bug, set the verbosity to 10 (on Linux, `export AUTOGRAPH_VERBOSITY=10`) and attach the full output. Cause: converting <bound method SwitchedDropout.call of <deepchem.models.layers.SwitchedDropout object at 0x7fe2b3897190>>: AttributeError: module 'gast' has no attribute 'Index'\n",
      "WARNING:tensorflow:Entity <bound method GraphGather.call of <deepchem.models.layers.GraphGather object at 0x7fe2b8372690>> could not be transformed and will be executed as-is. Please report this to the AutgoGraph team. When filing the bug, set the verbosity to 10 (on Linux, `export AUTOGRAPH_VERBOSITY=10`) and attach the full output. Cause: converting <bound method GraphGather.call of <deepchem.models.layers.GraphGather object at 0x7fe2b8372690>>: AttributeError: module 'gast' has no attribute 'Index'\n"
     ]
    },
    {
     "name": "stdout",
     "output_type": "stream",
     "text": [
      "WARNING: Entity <bound method GraphGather.call of <deepchem.models.layers.GraphGather object at 0x7fe2b8372690>> could not be transformed and will be executed as-is. Please report this to the AutgoGraph team. When filing the bug, set the verbosity to 10 (on Linux, `export AUTOGRAPH_VERBOSITY=10`) and attach the full output. Cause: converting <bound method GraphGather.call of <deepchem.models.layers.GraphGather object at 0x7fe2b8372690>>: AttributeError: module 'gast' has no attribute 'Index'\n",
      "WARNING:tensorflow:Entity <bound method TrimGraphOutput.call of <deepchem.models.graph_models.TrimGraphOutput object at 0x7fe2b3b942d0>> could not be transformed and will be executed as-is. Please report this to the AutgoGraph team. When filing the bug, set the verbosity to 10 (on Linux, `export AUTOGRAPH_VERBOSITY=10`) and attach the full output. Cause: converting <bound method TrimGraphOutput.call of <deepchem.models.graph_models.TrimGraphOutput object at 0x7fe2b3b942d0>>: AttributeError: module 'gast' has no attribute 'Index'\n",
      "WARNING: Entity <bound method TrimGraphOutput.call of <deepchem.models.graph_models.TrimGraphOutput object at 0x7fe2b3b942d0>> could not be transformed and will be executed as-is. Please report this to the AutgoGraph team. When filing the bug, set the verbosity to 10 (on Linux, `export AUTOGRAPH_VERBOSITY=10`) and attach the full output. Cause: converting <bound method TrimGraphOutput.call of <deepchem.models.graph_models.TrimGraphOutput object at 0x7fe2b3b942d0>>: AttributeError: module 'gast' has no attribute 'Index'\n",
      "WARNING:tensorflow:From /home/ella/anaconda3/envs/ml-for-chemists-tf1/lib/python3.7/site-packages/tensorflow/python/ops/math_grad.py:318: add_dispatch_support.<locals>.wrapper (from tensorflow.python.ops.array_ops) is deprecated and will be removed in a future version.\n",
      "Instructions for updating:\n",
      "Use tf.where in 2.0, which has the same broadcast rule as np.where\n"
     ]
    },
    {
     "name": "stderr",
     "output_type": "stream",
     "text": [
      "/home/ella/anaconda3/envs/ml-for-chemists-tf1/lib/python3.7/site-packages/tensorflow/python/ops/gradients_util.py:93: UserWarning: Converting sparse IndexedSlices to a dense Tensor of unknown shape. This may consume a large amount of memory.\n",
      "  \"Converting sparse IndexedSlices to a dense Tensor of unknown shape. \"\n",
      "/home/ella/anaconda3/envs/ml-for-chemists-tf1/lib/python3.7/site-packages/tensorflow/python/ops/gradients_util.py:93: UserWarning: Converting sparse IndexedSlices to a dense Tensor of unknown shape. This may consume a large amount of memory.\n",
      "  \"Converting sparse IndexedSlices to a dense Tensor of unknown shape. \"\n",
      "/home/ella/anaconda3/envs/ml-for-chemists-tf1/lib/python3.7/site-packages/tensorflow/python/ops/gradients_util.py:93: UserWarning: Converting sparse IndexedSlices to a dense Tensor of unknown shape. This may consume a large amount of memory.\n",
      "  \"Converting sparse IndexedSlices to a dense Tensor of unknown shape. \"\n"
     ]
    },
    {
     "data": {
      "text/plain": [
       "0.0"
      ]
     },
     "execution_count": 12,
     "metadata": {},
     "output_type": "execute_result"
    }
   ],
   "source": [
    "# train it\n",
    "model.fit(train_dataset, nb_epoch=100)"
   ]
  },
  {
   "cell_type": "code",
   "execution_count": 13,
   "metadata": {},
   "outputs": [
    {
     "name": "stdout",
     "output_type": "stream",
     "text": [
      "computed_metrics: [0.9500765952035981]\n",
      "Training set score: {'pearson_r2_score': 0.9500765952035981}\n",
      "computed_metrics: [0.8442636022496075]\n",
      "Test set score: {'pearson_r2_score': 0.8442636022496075}\n"
     ]
    }
   ],
   "source": [
    "metric = dc.metrics.Metric(dc.metrics.pearson_r2_score)\n",
    "print(\"Training set score:\", model.evaluate(train_dataset, [metric], transformers))\n",
    "print(\"Test set score:\", model.evaluate(test_dataset, [metric], transformers))"
   ]
  },
  {
   "cell_type": "markdown",
   "metadata": {},
   "source": [
    "And here we can look at the results for that batch of 12 examples from the test dataset"
   ]
  },
  {
   "cell_type": "code",
   "execution_count": 14,
   "metadata": {},
   "outputs": [
    {
     "name": "stdout",
     "output_type": "stream",
     "text": [
      "\tSolubility\t\tMolecule\n",
      "Predicted\tActual\t\t\n",
      "\n",
      "-1.21\t\t-1.71\t\tC1c2ccccc2c3ccc4ccccc4c13\n",
      "0.466\t\t0.291\t\tCOc1ccccc1Cl\n",
      "-1.07\t\t-1.43\t\tCOP(=S)(OC)Oc1cc(Cl)c(Br)cc1Cl\n",
      "-0.329\t\t-0.925\t\tClC(Cl)CC(=O)NC2=C(Cl)C(=O)c1ccccc1C2=O\n",
      "-1.57\t\t-1.95\t\tClC(Cl)C(c1ccc(Cl)cc1)c2ccc(Cl)cc2 \n",
      "1.36\t\t1.35\t\tCOC(=O)C=C\n",
      "-0.483\t\t-0.859\t\tCN(C)C(=O)Nc2ccc(Oc1ccc(Cl)cc1)cc2\n",
      "0.656\t\t-0.651\t\tN(=Nc1ccccc1)c2ccccc2\n",
      "-0.394\t\t-0.329\t\tCC(C)c1ccc(C)cc1\n",
      "0.911\t\t0.608\t\tOc1c(Cl)cccc1Cl\n",
      "1.15\t\t1.83\t\tOCC2OC(OC1(CO)OC(CO)C(O)C1O)C(O)C(O)C2O \n",
      "1.53\t\t1.62\t\tOC1C(O)C(O)C(O)C(O)C1O\n"
     ]
    }
   ],
   "source": [
    "# this line picks a batch of 12 molecules and gets the predicted solubilities\n",
    "solubilities = model.predict_on_batch(test_dataset.X[:12])\n",
    "# this grabs the first 12 smiles strings as well\n",
    "SMILES_strings = test_dataset.ids[:12]\n",
    "# this line picks a batch of 12 molecules and gets the predicted solubilities\n",
    "ground_truth = test_dataset.y[:12]\n",
    "# this makes an empty list called mol_list\n",
    "mol_list=[]\n",
    "print('\\tSolubility\\t\\tMolecule')\n",
    "print('Predicted\\tActual\\t\\t\\n')\n",
    "# this loops over the numbers 0 to 11 ...\n",
    "for i in range(12):\n",
    "    print(\"{:.3}\\t\\t{:.3}\\t\\t{}\".format(solubilities[i][0], ground_truth[i][0], SMILES_strings[i]))"
   ]
  },
  {
   "cell_type": "markdown",
   "metadata": {},
   "source": [
    "As you can see, the neural network model has worked much better at predicting solubility on the test set."
   ]
  },
  {
   "cell_type": "markdown",
   "metadata": {},
   "source": [
    "## Making your own models"
   ]
  },
  {
   "cell_type": "markdown",
   "metadata": {},
   "source": [
    "In this section, we will write our own keras code to create different neural networks and see which is best for solving the delaney dataset.\n",
    "\n",
    "Have a look at the neural networks powerpoint to find out what these things are. We will make a simple *fully-connected* neural network which takes in the ECFP fingerprints."
   ]
  },
  {
   "cell_type": "markdown",
   "metadata": {},
   "source": [
    "### Regression"
   ]
  },
  {
   "cell_type": "code",
   "execution_count": 15,
   "metadata": {},
   "outputs": [
    {
     "name": "stdout",
     "output_type": "stream",
     "text": [
      "Loading dataset from disk.\n",
      "Loading dataset from disk.\n",
      "Loading dataset from disk.\n"
     ]
    }
   ],
   "source": [
    "tasks, datasets, transformers = dc.molnet.load_delaney(featurizer='ECFP', splitter='random')\n",
    "train_dataset, valid_dataset, test_dataset = datasets"
   ]
  },
  {
   "cell_type": "markdown",
   "metadata": {},
   "source": [
    "Below is the neural network. \n",
    "\n",
    "`tf.keras.Sequential` is a *wrapper* function that tells keras that we're using a sequential model, i.e. a simple neural network. \n",
    "\n",
    "The data in input into the network and then flows into:\n",
    "`tf.keras.layers.Dense(50, activation='sigmoid')`\n",
    "this is a standard *fully connected* layer (which keras calls `Dense` as there are many many connections). The first number, `50` tells keras how many units we want in the layer. The `activation function` is a mathematical function whose purpose is to add *non-linearity* to the system. Neural networks can be described as a type of *non-linear regression model*, they are very powerful and part of that power comes from the non-linearity. \n",
    "\n",
    "The data flows through the first layer (the one with 50 units) and into the second (and final) layer:\n",
    "`tf.keras.layers.Dense(1)`\n",
    "this has only 1 unit and no non-linearity (the default activation is linear). For regression models we read out the number that flows out of this single unit, and that is our prediction!\n",
    "\n",
    "This is a *tiny* neural network. It has an input layer (not shown as keras assumes you have an input!), a single *hidden layer* (this one: `tf.keras.layers.Dense(50, activation='sigmoid')`) and an *output layer* (this one: `tf.keras.layers.Dense(1)`), so this is a single hidden layer model, a *shallow* network. These were the types of NNs that people used in the 1990s, however, it was then discovered that adding more hidden layers made more powerful NNs. A network with more than one hidden layer is called a *deep neural network*. Now, there are deep NNs with hundreds of layers, usually of many different types. "
   ]
  },
  {
   "cell_type": "code",
   "execution_count": 16,
   "metadata": {},
   "outputs": [],
   "source": [
    "keras_model = tf.keras.Sequential([\n",
    "    tf.keras.layers.Dense(50, activation='sigmoid'), # hidden layer\n",
    "    tf.keras.layers.Dense(1) # output layer\n",
    "])"
   ]
  },
  {
   "cell_type": "markdown",
   "metadata": {},
   "source": [
    "As before, in deepchem we must wrap our keras_model in a wrapper function `dc.models.KerasModel()` to tell deepchem what it is. The second term in this wrapper function is the `loss function`, this is the function that tells deepchem what to `minimize` to train the model. To train the model, we want to minimize the error between the predicted output $\\hat{\\mathbf{y}}$ and the ground truth $\\mathbf{y}$. There is more than one solution that the NN could find, so we use the loss function to guide it towards a solution we think would be good, we do this by adding in an extra error term which it also has to minimize and which is higher the further the NN is from the type of solution we think would be good. "
   ]
  },
  {
   "cell_type": "code",
   "execution_count": 17,
   "metadata": {},
   "outputs": [],
   "source": [
    "# makes a deep chem model from our keras model, and tells it what loss function to use \n",
    "model = dc.models.KerasModel(keras_model, dc.models.losses.L1Loss())"
   ]
  },
  {
   "cell_type": "markdown",
   "metadata": {},
   "source": [
    " Neural networks require seeing the data more than once to learn. Each time we show it a copy of the training data is an *epoch*. Here we train for 50 epochs, which is 50 presentations of the data. Usually, you set up the training to stop automatically once you reach a good solution. "
   ]
  },
  {
   "cell_type": "code",
   "execution_count": 18,
   "metadata": {},
   "outputs": [
    {
     "name": "stdout",
     "output_type": "stream",
     "text": [
      "computed_metrics: [0.8611471820253771]\n",
      "training set score: {'pearson_r2_score': 0.8611471820253771}\n",
      "computed_metrics: [0.5994976761796923]\n",
      "test set score: {'pearson_r2_score': 0.5994976761796923}\n"
     ]
    }
   ],
   "source": [
    "# fits the model\n",
    "model.fit(train_dataset, nb_epoch=50)\n",
    "# sets R2 as the metric\n",
    "metric = dc.metrics.Metric(dc.metrics.pearson_r2_score)\n",
    "# tests and prints out the model\n",
    "print('training set score:', model.evaluate(train_dataset, [metric]))\n",
    "print('test set score:', model.evaluate(test_dataset, [metric]))"
   ]
  },
  {
   "cell_type": "markdown",
   "metadata": {},
   "source": [
    "### Task 1: Making a good model to predict drug solubility from structure\n",
    "\n",
    "Can you improve on the model above? \n",
    "\n",
    "The best I've found is an $R^2$ *on the test dataset*  of 0.74. Can you beat it?"
   ]
  },
  {
   "cell_type": "markdown",
   "metadata": {},
   "source": [
    "##### Things to add:\n",
    "\n",
    "*types of layers*\n",
    "1. tf.keras.layers.Dense(1000, activation='relu')\n",
    "2. tf.keras.layers.Dropout(rate=0.5)\n",
    "3. tf.keras.layers.BatchNormalization(),\n",
    "\n",
    "You can change the number of neurons: \n",
    "\n",
    "`tf.keras.layers.Dense(*1000*, activation='relu')` --> `tf.keras.layers.Dense(*200*, activation='relu')`\n",
    "\n",
    "You can change the activation function:\n",
    "\n",
    "`tf.keras.layers.Dense(1000, activation=*'relu'*)` --> `tf.keras.layers.Dense(1000, activation=*'sigmoid'*)`\n",
    "\n",
    "You can add in normalisation or dropout layers:\n",
    "\n",
    "`tf.keras.layers.Dropout(rate=0.5) (and you can change the rate)`\n",
    "`tf.keras.layers.BatchNormalization()`\n",
    "\n",
    "These are applied to `Dense` layers so need to come after them, e.g. this model still has only 1 hidden layer, but that layer has dropout applied to it: \n",
    "\n",
    "`keras_model = tf.keras.Sequential([\n",
    "    tf.keras.layers.Dense(50, activation='sigmoid'),\n",
    "    tf.keras.layers.Dropout(rate=0.2),\n",
    "    tf.keras.layers.Dense(1)\n",
    "])`\n",
    "\n",
    "You can change the loss function, here's some to try:\n",
    "\n",
    "`dc.models.losses.L1Loss()`\n",
    "`dc.models.losses.L2Loss()`\n",
    "`dc.models.losses.L1Loss()`\n",
    "`dc.models.losses.SigmoidCrossEntropy()`\n",
    "`dc.models.losses.BinaryCrossEntropy()`\n",
    "\n",
    "Note that each time you train a NN, you get a different solution, so the same model may give better or worse solutions to the problem."
   ]
  },
  {
   "cell_type": "code",
   "execution_count": 19,
   "metadata": {},
   "outputs": [
    {
     "name": "stdout",
     "output_type": "stream",
     "text": [
      "computed_metrics: [0.8730821263696091]\n",
      "training set score: {'pearson_r2_score': 0.8730821263696091}\n",
      "computed_metrics: [0.6146797587602841]\n",
      "test set score: {'pearson_r2_score': 0.6146797587602841}\n"
     ]
    }
   ],
   "source": [
    "keras_model = tf.keras.Sequential([\n",
    "    tf.keras.layers.Dense(50, activation='sigmoid'),\n",
    "    tf.keras.layers.Dense(1)\n",
    "])\n",
    "model = dc.models.KerasModel(keras_model, dc.models.losses.L1Loss())\n",
    "\n",
    "model.fit(train_dataset, nb_epoch=50)\n",
    "metric = dc.metrics.Metric(dc.metrics.pearson_r2_score)\n",
    "print('training set score:', model.evaluate(train_dataset, [metric]))\n",
    "print('test set score:', model.evaluate(test_dataset, [metric]))"
   ]
  },
  {
   "cell_type": "code",
   "execution_count": 20,
   "metadata": {},
   "outputs": [
    {
     "name": "stdout",
     "output_type": "stream",
     "text": [
      "computed_metrics: [0.9825735192108754]\n",
      "training set score: {'pearson_r2_score': 0.9825735192108754}\n",
      "computed_metrics: [0.7470096680849331]\n",
      "test set score: {'pearson_r2_score': 0.7470096680849331}\n"
     ]
    }
   ],
   "source": [
    "keras_model = tf.keras.Sequential([\n",
    "    tf.keras.layers.Dense(1000, activation='relu'),\n",
    "    #tf.keras.layers.Dropout(rate=0.5),\n",
    "    tf.keras.layers.Dense(500, activation='relu'),\n",
    "    #tf.keras.layers.Dropout(rate=0.5),\n",
    "    tf.keras.layers.Dense(500, activation='relu'),\n",
    "    #tf.keras.layers.Dropout(rate=0.5),\n",
    "    tf.keras.layers.Dense(200, activation='relu'),\n",
    "    #tf.keras.layers.Dropout(rate=0.5),\n",
    "    tf.keras.layers.Dense(1)\n",
    "])\n",
    "model = dc.models.KerasModel(keras_model, dc.models.losses.L2Loss())\n",
    "\n",
    "model.fit(train_dataset, nb_epoch=50)\n",
    "metric = dc.metrics.Metric(dc.metrics.pearson_r2_score)\n",
    "print('training set score:', model.evaluate(train_dataset, [metric]))\n",
    "print('test set score:', model.evaluate(test_dataset, [metric]))\n",
    "\n"
   ]
  },
  {
   "cell_type": "code",
   "execution_count": 21,
   "metadata": {},
   "outputs": [
    {
     "name": "stdout",
     "output_type": "stream",
     "text": [
      "computed_metrics: [0.981977969728467]\n",
      "training set score: {'pearson_r2_score': 0.981977969728467}\n",
      "computed_metrics: [0.7276061588632968]\n",
      "test set score: {'pearson_r2_score': 0.7276061588632968}\n"
     ]
    }
   ],
   "source": [
    "keras_model = tf.keras.Sequential([\n",
    "    tf.keras.layers.Dense(1000, activation='relu'),\n",
    "    tf.keras.layers.BatchNormalization(),\n",
    "    tf.keras.layers.Dense(500, activation='relu'),\n",
    "    tf.keras.layers.Dropout(rate=0.5),\n",
    "    tf.keras.layers.Dense(100, activation='sigmoid'),\n",
    "    tf.keras.layers.Dense(1)\n",
    "])\n",
    "model = dc.models.KerasModel(keras_model, dc.models.losses.L2Loss())\n",
    "\n",
    "model.fit(train_dataset, nb_epoch=50)\n",
    "metric = dc.metrics.Metric(dc.metrics.pearson_r2_score)\n",
    "print('training set score:', model.evaluate(train_dataset, [metric]))\n",
    "print('test set score:', model.evaluate(test_dataset, [metric]))"
   ]
  },
  {
   "cell_type": "markdown",
   "metadata": {},
   "source": [
    "## Classificiation\n",
    "\n",
    "In this section, we will classify the input molecules. Here, we are looking for which molecules are active at prevented HIV replication. (Notebook 4 gives further detail on what classification is). \n",
    "\n",
    "#### The HIV dataset\n",
    "\n",
    "\"The HIV dataset was introduced by the Drug Therapeutics Program (DTP) AIDS AntiviralScreen,  which  tested  the  ability  to  inhibit  HIV  replication  for  over  40,000  compounds. 47 Screening results were evaluated and placed into three categories:  confirmed inactive (CI), confirmed active (CA) and confirmed moderately active (CM). We further combine the latter  two  labels,  making  it  a  classification  task  between  inactive  (CI)  and  active  (CA  and CM). As we are more interested in discover new categories of HIV inhibitors, scaffold split-ting(introduced in the next subsection) is recommended for this dataset.\" (Taken from the MoleculeNet paper). \n",
    "\n"
   ]
  },
  {
   "cell_type": "markdown",
   "metadata": {},
   "source": [
    "As before, we download and featurize the dataset."
   ]
  },
  {
   "cell_type": "code",
   "execution_count": 22,
   "metadata": {},
   "outputs": [
    {
     "name": "stdout",
     "output_type": "stream",
     "text": [
      "Loading raw samples now.\n",
      "shard_size: 8192\n",
      "About to start loading CSV from /tmp/HIV.csv\n",
      "Loading shard 1 of size 8192.\n",
      "Featurizing sample 0\n",
      "Featurizing sample 1000\n",
      "Featurizing sample 2000\n",
      "Featurizing sample 3000\n",
      "Featurizing sample 4000\n",
      "Featurizing sample 5000\n",
      "Featurizing sample 6000\n",
      "Featurizing sample 7000\n",
      "Featurizing sample 8000\n",
      "TIMING: featurizing shard 0 took 10.171 s\n",
      "Loading shard 2 of size 8192.\n",
      "Featurizing sample 0\n",
      "Featurizing sample 1000\n",
      "Featurizing sample 2000\n",
      "Featurizing sample 3000\n",
      "Featurizing sample 4000\n",
      "Featurizing sample 5000\n",
      "Featurizing sample 6000\n",
      "Featurizing sample 7000\n",
      "Featurizing sample 8000\n",
      "TIMING: featurizing shard 1 took 9.996 s\n",
      "Loading shard 3 of size 8192.\n",
      "Featurizing sample 0\n",
      "Featurizing sample 1000\n",
      "Featurizing sample 2000\n",
      "Featurizing sample 3000\n",
      "Featurizing sample 4000\n",
      "Featurizing sample 5000\n",
      "Featurizing sample 6000\n",
      "Featurizing sample 7000\n",
      "Featurizing sample 8000\n",
      "TIMING: featurizing shard 2 took 10.252 s\n",
      "Loading shard 4 of size 8192.\n",
      "Featurizing sample 0\n",
      "Featurizing sample 1000\n",
      "Featurizing sample 2000\n",
      "Featurizing sample 3000\n",
      "Featurizing sample 4000\n",
      "Featurizing sample 5000\n",
      "Featurizing sample 6000\n",
      "Featurizing sample 7000\n",
      "Featurizing sample 8000\n",
      "TIMING: featurizing shard 3 took 10.066 s\n",
      "Loading shard 5 of size 8192.\n",
      "Featurizing sample 0\n",
      "Featurizing sample 1000\n",
      "Featurizing sample 2000\n"
     ]
    },
    {
     "name": "stderr",
     "output_type": "stream",
     "text": [
      "RDKit WARNING: [16:10:13] WARNING: not removing hydrogen atom without neighbors\n",
      "RDKit WARNING: [16:10:13] WARNING: not removing hydrogen atom without neighbors\n"
     ]
    },
    {
     "name": "stdout",
     "output_type": "stream",
     "text": [
      "Featurizing sample 3000\n",
      "Featurizing sample 4000\n",
      "Featurizing sample 5000\n",
      "Featurizing sample 6000\n",
      "Featurizing sample 7000\n",
      "Featurizing sample 8000\n",
      "TIMING: featurizing shard 4 took 10.065 s\n",
      "Loading shard 6 of size 8192.\n",
      "Featurizing sample 0\n",
      "TIMING: featurizing shard 5 took 0.222 s\n",
      "TIMING: dataset construction took 51.733 s\n",
      "Loading dataset from disk.\n",
      "TIMING: dataset construction took 1.515 s\n",
      "Loading dataset from disk.\n",
      "TIMING: dataset construction took 0.528 s\n",
      "Loading dataset from disk.\n",
      "TIMING: dataset construction took 0.537 s\n",
      "Loading dataset from disk.\n",
      "TIMING: dataset construction took 1.291 s\n",
      "Loading dataset from disk.\n",
      "TIMING: dataset construction took 0.506 s\n",
      "Loading dataset from disk.\n",
      "TIMING: dataset construction took 0.520 s\n",
      "Loading dataset from disk.\n",
      "TIMING: dataset construction took 1.064 s\n",
      "Loading dataset from disk.\n",
      "TIMING: dataset construction took 0.140 s\n",
      "Loading dataset from disk.\n",
      "TIMING: dataset construction took 0.147 s\n",
      "Loading dataset from disk.\n"
     ]
    }
   ],
   "source": [
    "tasks, datasets, transformers = dc.molnet.load_hiv(feturizer='ECFP', splitter='scaffold')\n",
    "train_dataset, valid_dataset, test_dataset = datasets"
   ]
  },
  {
   "cell_type": "markdown",
   "metadata": {},
   "source": [
    "We now make a classification model. \n",
    "\n",
    "This has 1 output, which will be a binary number (1 or 0) indicating whether the drug molecule is active against HIV (1) or not active (0). This is a very hard problem and one under active research. We're asking the neural network to learn what molecules are, and approximate, from the data, which aspects of the molecule might disrupt a complex process involving a virus and cells. There are many different places in this process where the drug could be acting. Frankly, I'm surprised that this works at all! The fact that it does work is a testiment to how powerful neural networks are. \n",
    "\n",
    "We use a different metric here. For the regression model we used $R^2$, in notebook 4, we used *accuracy*, here we use *receiver-operator characteristic* **ROC**. (The term comes from sending signals over the radio), and is a different measure of the accuracy of the model. It compares the predictions it got correct: true positives (those it said were active and are) and true negatives (those it said were inactive which are inactive) with the predictions it got incorrect: false positives (molecules it said were active, but which are not) and false negatives (those it said were inactive, but which work). \n",
    "\n",
    "And ROC of 1 is perfect, and ROC of 0.5 is the same as guessing randomly (i.e. not very good at all!)."
   ]
  },
  {
   "cell_type": "code",
   "execution_count": 23,
   "metadata": {},
   "outputs": [
    {
     "name": "stdout",
     "output_type": "stream",
     "text": [
      "WARNING:tensorflow:From /home/ella/anaconda3/envs/ml-for-chemists-tf1/lib/python3.7/site-packages/deepchem/models/losses.py:93: The name tf.losses.sigmoid_cross_entropy is deprecated. Please use tf.compat.v1.losses.sigmoid_cross_entropy instead.\n",
      "\n",
      "WARNING:tensorflow:From /home/ella/anaconda3/envs/ml-for-chemists-tf1/lib/python3.7/site-packages/deepchem/models/losses.py:94: The name tf.losses.Reduction is deprecated. Please use tf.compat.v1.losses.Reduction instead.\n",
      "\n",
      "computed_metrics: [0.5]\n",
      "training set score: {'roc_auc_score': 0.5}\n",
      "computed_metrics: [0.5]\n",
      "test set score: {'roc_auc_score': 0.5}\n"
     ]
    }
   ],
   "source": [
    "classification_model = tf.keras.Sequential([\n",
    "        tf.keras.layers.Dense(500, activation='relu'),\n",
    "        tf.keras.layers.Dense(1, activation='relu')\n",
    "])\n",
    "model = dc.models.KerasModel(classification_model, dc.models.losses.SigmoidCrossEntropy())\n",
    "\n",
    "model.fit(train_dataset, nb_epoch=100)\n",
    "metric = dc.metrics.Metric(dc.metrics.roc_auc_score)\n",
    "print('training set score:', model.evaluate(train_dataset, [metric]))\n",
    "print('test set score:', model.evaluate(test_dataset, [metric]))"
   ]
  },
  {
   "cell_type": "markdown",
   "metadata": {},
   "source": [
    "## Task 2: Make a better classification neural network to screen anti-viral drugs for action against HIV\n",
    "\n",
    "Try modifying the NN below to see if you can improve the ROC score on the test set. \n",
    "\n",
    "the best I've managed is 0.70"
   ]
  },
  {
   "cell_type": "code",
   "execution_count": 24,
   "metadata": {},
   "outputs": [
    {
     "name": "stdout",
     "output_type": "stream",
     "text": [
      "computed_metrics: [0.5]\n",
      "training set score: {'roc_auc_score': 0.5}\n",
      "computed_metrics: [0.5]\n",
      "test set score: {'roc_auc_score': 0.5}\n"
     ]
    }
   ],
   "source": [
    "classification_model = tf.keras.Sequential([\n",
    "        tf.keras.layers.Dense(500, activation='relu'),\n",
    "        tf.keras.layers.Dense(1, activation='relu')\n",
    "])\n",
    "model = dc.models.KerasModel(classification_model, dc.models.losses.SigmoidCrossEntropy())\n",
    "\n",
    "model.fit(train_dataset, nb_epoch=100)\n",
    "metric = dc.metrics.Metric(dc.metrics.roc_auc_score)\n",
    "print('training set score:', model.evaluate(train_dataset, [metric]))\n",
    "print('test set score:', model.evaluate(test_dataset, [metric]))"
   ]
  },
  {
   "cell_type": "code",
   "execution_count": 25,
   "metadata": {},
   "outputs": [
    {
     "name": "stdout",
     "output_type": "stream",
     "text": [
      "computed_metrics: [0.9999974749825083]\n",
      "training set score: {'roc_auc_score': 0.9999974749825083}\n",
      "computed_metrics: [0.6460260008863938]\n",
      "test set score: {'roc_auc_score': 0.6460260008863938}\n"
     ]
    }
   ],
   "source": [
    "classification_model = tf.keras.Sequential([\n",
    "    tf.keras.layers.Dense(1000, activation='relu'),\n",
    "    tf.keras.layers.Dropout(rate=0.5),\n",
    "    tf.keras.layers.Dense(500, activation='relu'),\n",
    "    tf.keras.layers.Dropout(rate=0.5),\n",
    "    tf.keras.layers.Dense(1, activation='sigmoid')\n",
    "    #tf.keras.layers.Dense(1,activation='softmax'),\n",
    "])\n",
    "model = dc.models.KerasModel(classification_model, dc.models.losses.BinaryCrossEntropy())\n",
    "\n",
    "model.fit(train_dataset, nb_epoch=100)\n",
    "metric = dc.metrics.Metric(dc.metrics.roc_auc_score)\n",
    "print('training set score:', model.evaluate(train_dataset, [metric]))\n",
    "print('test set score:', model.evaluate(test_dataset, [metric]))"
   ]
  },
  {
   "cell_type": "code",
   "execution_count": 26,
   "metadata": {},
   "outputs": [
    {
     "name": "stdout",
     "output_type": "stream",
     "text": [
      "computed_metrics: [0.99999606567042]\n",
      "training set score: {'roc_auc_score': 0.99999606567042}\n",
      "computed_metrics: [0.6651309541396704]\n",
      "test set score: {'roc_auc_score': 0.6651309541396704}\n"
     ]
    }
   ],
   "source": [
    "classification_model = tf.keras.Sequential([\n",
    "    tf.keras.layers.Dense(1000, activation='relu'),\n",
    "    tf.keras.layers.BatchNormalization(),\n",
    "    tf.keras.layers.Dense(500, activation='relu'),\n",
    "    tf.keras.layers.BatchNormalization(),\n",
    "    tf.keras.layers.Dense(1, activation='sigmoid')\n",
    "    #tf.keras.layers.Dense(1,activation='softmax'),\n",
    "])\n",
    "model = dc.models.KerasModel(classification_model, dc.models.losses.BinaryCrossEntropy())\n",
    "\n",
    "model.fit(train_dataset, nb_epoch=100)\n",
    "metric = dc.metrics.Metric(dc.metrics.roc_auc_score)\n",
    "print('training set score:', model.evaluate(train_dataset, [metric]))\n",
    "print('test set score:', model.evaluate(test_dataset, [metric]))"
   ]
  },
  {
   "cell_type": "code",
   "execution_count": 27,
   "metadata": {},
   "outputs": [
    {
     "name": "stdout",
     "output_type": "stream",
     "text": [
      "computed_metrics: [0.9999883731752712]\n",
      "training set score: {'roc_auc_score': 0.9999883731752712}\n",
      "computed_metrics: [0.669934364645548]\n",
      "test set score: {'roc_auc_score': 0.669934364645548}\n"
     ]
    }
   ],
   "source": [
    "classification_model = tf.keras.Sequential([\n",
    "    tf.keras.layers.Dense(1000, activation='relu'),\n",
    "    tf.keras.layers.BatchNormalization(),\n",
    "    tf.keras.layers.Dense(1000, activation='relu'),\n",
    "    tf.keras.layers.BatchNormalization(),\n",
    "    tf.keras.layers.Dense(200, activation='relu'),\n",
    "    tf.keras.layers.BatchNormalization(),\n",
    "    tf.keras.layers.Dense(1, activation='sigmoid')\n",
    "    #tf.keras.layers.Dense(1,activation='softmax'),\n",
    "])\n",
    "model = dc.models.KerasModel(classification_model, dc.models.losses.BinaryCrossEntropy())\n",
    "\n",
    "model.fit(train_dataset, nb_epoch=100)\n",
    "metric = dc.metrics.Metric(dc.metrics.roc_auc_score)\n",
    "print('training set score:', model.evaluate(train_dataset, [metric]))\n",
    "print('test set score:', model.evaluate(test_dataset, [metric]))"
   ]
  },
  {
   "cell_type": "markdown",
   "metadata": {},
   "source": [
    "## STOP HERE:\n",
    "\n",
    "this is the end of this notebook. \n",
    "\n",
    "Go and do notebook 4 if you haven't!"
   ]
  },
  {
   "cell_type": "code",
   "execution_count": 31,
   "metadata": {},
   "outputs": [
    {
     "name": "stdout",
     "output_type": "stream",
     "text": [
      "Collecting package metadata (current_repodata.json): done\n",
      "Solving environment: done\n",
      "\n",
      "## Package Plan ##\n",
      "\n",
      "  environment location: /home/ella/anaconda3/envs/ml-for-chemists-tf1\n",
      "\n",
      "  added / updated specs:\n",
      "    - pdbfixer\n",
      "\n",
      "\n",
      "The following packages will be downloaded:\n",
      "\n",
      "    package                    |            build\n",
      "    ---------------------------|-----------------\n",
      "    cudatoolkit-11.2.1         |       h8204236_8       877.7 MB  conda-forge\n",
      "    fftw-3.3.9                 |nompi_h74d3f13_100         6.4 MB  conda-forge\n",
      "    ocl-icd-2.2.14             |       h7f98852_0         118 KB  conda-forge\n",
      "    ocl-icd-system-1.0.0       |                1           4 KB  conda-forge\n",
      "    openmm-7.5.0               |   py37h1b3cdbe_6        10.8 MB  conda-forge\n",
      "    pdbfixer-1.7               |     pyhd3deb0d_0         167 KB  conda-forge\n",
      "    ------------------------------------------------------------\n",
      "                                           Total:       895.2 MB\n",
      "\n",
      "The following NEW packages will be INSTALLED:\n",
      "\n",
      "  cudatoolkit        conda-forge/linux-64::cudatoolkit-11.2.1-h8204236_8\n",
      "  fftw               conda-forge/linux-64::fftw-3.3.9-nompi_h74d3f13_100\n",
      "  ocl-icd            conda-forge/linux-64::ocl-icd-2.2.14-h7f98852_0\n",
      "  ocl-icd-system     conda-forge/linux-64::ocl-icd-system-1.0.0-1\n",
      "  openmm             conda-forge/linux-64::openmm-7.5.0-py37h1b3cdbe_6\n",
      "  pdbfixer           conda-forge/noarch::pdbfixer-1.7-pyhd3deb0d_0\n",
      "\n",
      "\n",
      "\n",
      "Downloading and Extracting Packages\n",
      "cudatoolkit-11.2.1   | 877.7 MB  | ##################################### | 100% \n",
      "pdbfixer-1.7         | 167 KB    | ##################################### | 100% \n",
      "ocl-icd-system-1.0.0 | 4 KB      | ##################################### | 100% \n",
      "openmm-7.5.0         | 10.8 MB   | ##################################### | 100% \n",
      "ocl-icd-2.2.14       | 118 KB    | ##################################### | 100% \n",
      "fftw-3.3.9           | 6.4 MB    | ##################################### | 100% \n",
      "Preparing transaction: done\n",
      "Verifying transaction: done\n",
      "Executing transaction: | By downloading and using the CUDA Toolkit conda packages, you accept the terms and conditions of the CUDA End User License Agreement (EULA): https://docs.nvidia.com/cuda/eula/index.html\n",
      "\n",
      "done\n"
     ]
    }
   ],
   "source": [
    "!conda install -c conda-forge -y pdbfixer"
   ]
  },
  {
   "cell_type": "code",
   "execution_count": 32,
   "metadata": {},
   "outputs": [
    {
     "name": "stdout",
     "output_type": "stream",
     "text": [
      "Dataset does not exist at /tmp/from-pdbbind/full_protein-core-grid-random. Reconstructing...\n",
      "\n",
      "Raw dataset:\n",
      "/tmp/pdbbind/v2015\n",
      "\n",
      "Featurized and splitted dataset:\n",
      "/tmp/from-pdbbind/full_protein-core-grid-random\n",
      "\n",
      "Featurizing Complexes for \"/tmp/pdbbind/v2015\" ...\n",
      "\n",
      "TIMING: Loading protein coordinates took 4.871 sTIMING: Loading protein coordinates took 4.926 s\n",
      "\n",
      "TIMING: Loading protein coordinates took 4.960 s\n",
      "TIMING: Loading protein coordinates took 5.048 s\n",
      "TIMING: Loading protein coordinates took 5.023 s\n",
      "TIMING: Loading protein coordinates took 5.910 s\n",
      "TIMING: Loading ligand coordinates took 1.959 s\n",
      "TIMING: Centroid processing took 0.000 s\n",
      "TIMING: Loading ligand coordinates took 1.971 sTIMING: Loading ligand coordinates took 1.863 s\n",
      "\n",
      "TIMING: Centroid processing took 0.000 sTIMING: Loading ligand coordinates took 1.975 sTIMING: Centroid processing took 0.000 s\n",
      "\n",
      "\n",
      "TIMING: Centroid processing took 0.000 sTIMING: Loading ligand coordinates took 2.100 s\n",
      "\n",
      "TIMING: Centroid processing took 0.000 s\n",
      "TIMING: Loading protein coordinates took 7.616 s\n",
      "TIMING: Loading protein coordinates took 7.805 s\n",
      "TIMING: Loading ligand coordinates took 1.896 s\n",
      "TIMING: Centroid processing took 0.000 s\n",
      "TIMING: Loading ligand coordinates took 1.726 s\n",
      "TIMING: Centroid processing took 0.000 s\n",
      "TIMING: Loading ligand coordinates took 1.961 s\n",
      "TIMING: Centroid processing took 0.000 s\n",
      "TIMING: Loading protein coordinates took 2.995 s\n",
      "TIMING: Loading ligand coordinates took 0.143 s\n",
      "TIMING: Centroid processing took 0.000 s\n",
      "TIMING: Loading protein coordinates took 5.717 sTIMING: Loading protein coordinates took 5.936 s\n",
      "\n",
      "TIMING: Loading ligand coordinates took 0.416 s\n",
      "TIMING: Centroid processing took 0.000 s\n",
      "TIMING: Loading protein coordinates took 4.246 s\n",
      "TIMING: Loading ligand coordinates took 1.664 s\n",
      "TIMING: Centroid processing took 0.000 s\n",
      "TIMING: Loading protein coordinates took 7.515 s\n",
      "TIMING: Loading ligand coordinates took 0.137 s\n",
      "TIMING: Centroid processing took 0.000 s\n",
      "TIMING: Loading protein coordinates took 8.450 s\n",
      "TIMING: Loading ligand coordinates took 0.248 s\n",
      "TIMING: Centroid processing took 0.000 s\n",
      "TIMING: Loading protein coordinates took 5.640 s\n",
      "TIMING: Loading ligand coordinates took 0.136 s\n",
      "TIMING: Centroid processing took 0.000 s\n",
      "TIMING: Loading ligand coordinates took 2.166 s\n",
      "TIMING: Centroid processing took 0.000 s\n",
      "TIMING: Loading protein coordinates took 16.677 s\n",
      "TIMING: Loading protein coordinates took 9.311 s\n",
      "TIMING: Loading ligand coordinates took 1.672 s\n",
      "TIMING: Centroid processing took 0.000 s\n",
      "TIMING: Loading ligand coordinates took 1.999 s\n",
      "TIMING: Centroid processing took 0.002 s\n",
      "TIMING: Loading protein coordinates took 6.238 s\n",
      "TIMING: Loading protein coordinates took 3.641 s\n",
      "TIMING: Loading ligand coordinates took 1.711 s\n",
      "TIMING: Centroid processing took 0.000 s\n",
      "TIMING: Loading ligand coordinates took 1.890 s\n",
      "TIMING: Centroid processing took 0.000 s\n",
      "TIMING: Loading protein coordinates took 2.753 s\n",
      "TIMING: Loading protein coordinates took 6.485 s\n",
      "TIMING: Loading ligand coordinates took 0.159 s\n",
      "TIMING: Centroid processing took 0.008 s\n",
      "TIMING: Loading protein coordinates took 4.508 s\n",
      "TIMING: Loading ligand coordinates took 1.958 s\n",
      "TIMING: Centroid processing took 0.000 s\n",
      "TIMING: Loading ligand coordinates took 1.926 s\n",
      "TIMING: Centroid processing took 0.000 s\n",
      "TIMING: Loading protein coordinates took 6.093 s\n",
      "TIMING: Loading ligand coordinates took 1.890 s\n",
      "TIMING: Centroid processing took 0.000 s\n",
      "TIMING: Loading protein coordinates took 6.804 s\n",
      "TIMING: Loading ligand coordinates took 0.149 s\n",
      "TIMING: Centroid processing took 0.000 s\n",
      "TIMING: Loading protein coordinates took 5.925 s\n",
      "TIMING: Loading protein coordinates took 10.339 s\n",
      "TIMING: Loading ligand coordinates took 1.875 s\n",
      "TIMING: Centroid processing took 0.000 s\n",
      "TIMING: Loading protein coordinates took 33.492 s\n",
      "TIMING: Loading protein coordinates took 3.382 s\n",
      "TIMING: Loading ligand coordinates took 1.985 s\n",
      "TIMING: Centroid processing took 0.000 s\n",
      "TIMING: Loading ligand coordinates took 1.921 s\n",
      "TIMING: Centroid processing took 0.000 s\n",
      "TIMING: Loading ligand coordinates took 1.880 s\n",
      "TIMING: Centroid processing took 0.000 s\n",
      "TIMING: Loading protein coordinates took 4.961 s\n",
      "TIMING: Loading protein coordinates took 3.699 s\n",
      "TIMING: Loading ligand coordinates took 0.147 s\n",
      "TIMING: Centroid processing took 0.000 s\n",
      "TIMING: Loading ligand coordinates took 1.703 s\n",
      "TIMING: Centroid processing took 0.000 s\n",
      "TIMING: Loading protein coordinates took 16.670 s\n",
      "TIMING: Loading protein coordinates took 5.318 s\n",
      "TIMING: Loading ligand coordinates took 2.091 s\n",
      "TIMING: Centroid processing took 0.000 s\n",
      "TIMING: Loading protein coordinates took 30.897 s\n",
      "TIMING: Loading ligand coordinates took 1.982 s\n",
      "TIMING: Centroid processing took 0.000 s\n",
      "TIMING: Loading protein coordinates took 10.482 s\n",
      "TIMING: Loading ligand coordinates took 0.362 s\n",
      "TIMING: Centroid processing took 0.000 s\n",
      "TIMING: Loading ligand coordinates took 1.920 s\n",
      "TIMING: Centroid processing took 0.000 s\n",
      "TIMING: Loading protein coordinates took 49.203 s\n",
      "TIMING: Loading ligand coordinates took 0.411 s\n",
      "TIMING: Centroid processing took 0.000 s\n",
      "TIMING: Loading protein coordinates took 13.735 s\n",
      "TIMING: Loading protein coordinates took 4.645 s\n",
      "TIMING: Loading ligand coordinates took 0.435 s\n",
      "TIMING: Centroid processing took 0.000 s\n",
      "TIMING: Loading protein coordinates took 3.783 s\n",
      "TIMING: Loading ligand coordinates took 0.403 s\n",
      "TIMING: Centroid processing took 0.000 s\n",
      "TIMING: Loading ligand coordinates took 0.380 s\n",
      "TIMING: Centroid processing took 0.000 s\n",
      "TIMING: Loading protein coordinates took 16.052 s\n",
      "TIMING: Loading protein coordinates took 5.421 s\n",
      "TIMING: Loading protein coordinates took 8.603 s\n",
      "TIMING: Loading ligand coordinates took 2.486 s\n",
      "TIMING: Centroid processing took 0.000 s\n",
      "TIMING: Loading ligand coordinates took 0.352 s\n",
      "TIMING: Centroid processing took 0.000 s\n",
      "TIMING: Loading protein coordinates took 18.014 s\n",
      "TIMING: Loading protein coordinates took 5.507 s\n",
      "TIMING: Loading ligand coordinates took 0.386 s\n",
      "TIMING: Centroid processing took 0.000 s\n",
      "TIMING: Loading ligand coordinates took 2.242 s\n",
      "TIMING: Centroid processing took 0.000 s\n",
      "TIMING: Loading protein coordinates took 47.496 s\n",
      "TIMING: Loading ligand coordinates took 1.660 s\n",
      "TIMING: Centroid processing took 0.000 s\n",
      "TIMING: Loading ligand coordinates took 1.943 s\n",
      "TIMING: Centroid processing took 0.000 s\n",
      "TIMING: Loading protein coordinates took 8.854 s\n",
      "TIMING: Loading protein coordinates took 5.273 s\n",
      "TIMING: Loading protein coordinates took 4.467 s\n",
      "TIMING: Loading ligand coordinates took 1.965 s\n",
      "TIMING: Centroid processing took 0.000 s\n",
      "TIMING: Loading ligand coordinates took 1.892 s\n",
      "TIMING: Centroid processing took 0.000 s\n",
      "TIMING: Loading protein coordinates took 6.942 s\n",
      "TIMING: Loading ligand coordinates took 0.125 s\n",
      "TIMING: Centroid processing took 0.000 s\n",
      "TIMING: Loading ligand coordinates took 1.778 s\n",
      "TIMING: Centroid processing took 0.000 s\n",
      "TIMING: Loading protein coordinates took 6.412 s\n",
      "TIMING: Loading protein coordinates took 6.942 s\n",
      "TIMING: Loading ligand coordinates took 0.416 s\n",
      "TIMING: Centroid processing took 0.000 s\n",
      "TIMING: Loading ligand coordinates took 2.036 s\n",
      "TIMING: Centroid processing took 0.000 s\n",
      "TIMING: Loading protein coordinates took 16.813 s\n",
      "TIMING: Loading ligand coordinates took 0.426 s\n",
      "TIMING: Centroid processing took 0.000 s\n",
      "TIMING: Loading protein coordinates took 6.076 s\n",
      "TIMING: Loading ligand coordinates took 0.170 s\n",
      "TIMING: Centroid processing took 0.000 s\n",
      "TIMING: Loading protein coordinates took 19.086 s\n",
      "TIMING: Loading ligand coordinates took 0.454 s\n",
      "TIMING: Centroid processing took 0.000 s\n",
      "TIMING: Loading protein coordinates took 4.313 s\n",
      "TIMING: Loading protein coordinates took 9.348 s\n",
      "TIMING: Loading protein coordinates took 3.229 s\n",
      "TIMING: Loading ligand coordinates took 1.753 s\n",
      "TIMING: Centroid processing took 0.000 s\n",
      "TIMING: Loading protein coordinates took 10.692 s\n",
      "TIMING: Loading ligand coordinates took 0.169 s\n",
      "TIMING: Loading ligand coordinates took 0.513 sTIMING: Loading ligand coordinates took 0.439 sTIMING: Centroid processing took 0.000 s\n",
      "\n",
      "TIMING: Centroid processing took 0.000 s\n",
      "TIMING: Centroid processing took 0.000 s\n",
      "\n",
      "TIMING: Loading protein coordinates took 5.011 s\n"
     ]
    },
    {
     "name": "stdout",
     "output_type": "stream",
     "text": [
      "TIMING: Loading protein coordinates took 2.537 s\n",
      "TIMING: Loading ligand coordinates took 2.171 s\n",
      "TIMING: Centroid processing took 0.000 s\n",
      "TIMING: Loading ligand coordinates took 0.249 s\n",
      "TIMING: Centroid processing took 0.000 s\n",
      "TIMING: Loading protein coordinates took 6.297 s\n",
      "TIMING: Loading protein coordinates took 4.817 s\n",
      "TIMING: Loading protein coordinates took 4.446 s\n",
      "TIMING: Loading ligand coordinates took 0.426 s\n",
      "TIMING: Centroid processing took 0.000 s\n",
      "TIMING: Loading protein coordinates took 15.543 s\n",
      "TIMING: Loading ligand coordinates took 0.494 s\n",
      "TIMING: Centroid processing took 0.000 s\n",
      "TIMING: Loading ligand coordinates took 2.017 s\n",
      "TIMING: Centroid processing took 0.000 s\n",
      "TIMING: Loading protein coordinates took 3.774 s\n",
      "TIMING: Loading ligand coordinates took 2.209 s\n",
      "TIMING: Centroid processing took 0.000 s\n",
      "TIMING: Loading ligand coordinates took 0.179 s\n",
      "TIMING: Centroid processing took 0.000 s\n",
      "TIMING: Loading protein coordinates took 5.376 s\n",
      "TIMING: Loading ligand coordinates took 0.174 s\n",
      "TIMING: Centroid processing took 0.000 s\n",
      "TIMING: Loading protein coordinates took 3.944 s\n",
      "TIMING: Loading ligand coordinates took 0.375 s\n",
      "TIMING: Centroid processing took 0.000 s\n",
      "TIMING: Loading protein coordinates took 5.906 s\n",
      "TIMING: Loading ligand coordinates took 2.048 s\n",
      "TIMING: Centroid processing took 0.000 s\n",
      "TIMING: Loading protein coordinates took 10.523 s\n",
      "TIMING: Loading ligand coordinates took 0.151 s\n",
      "TIMING: Centroid processing took 0.000 s\n",
      "TIMING: Loading protein coordinates took 9.895 s\n",
      "TIMING: Loading ligand coordinates took 0.396 s\n",
      "TIMING: Centroid processing took 0.000 s\n",
      "TIMING: Loading protein coordinates took 6.382 s\n",
      "TIMING: Loading ligand coordinates took 0.181 s\n",
      "TIMING: Centroid processing took 0.000 sTIMING: Loading protein coordinates took 11.581 s\n",
      "\n",
      "TIMING: Loading ligand coordinates took 0.357 s\n",
      "TIMING: Centroid processing took 0.000 s\n",
      "TIMING: Loading protein coordinates took 1.362 s\n",
      "TIMING: Loading protein coordinates took 6.109 s\n",
      "TIMING: Loading ligand coordinates took 0.262 s\n",
      "TIMING: Centroid processing took 0.000 s\n",
      "TIMING: Loading ligand coordinates took 0.211 s\n",
      "TIMING: Centroid processing took 0.000 s\n",
      "TIMING: Loading protein coordinates took 33.960 s\n",
      "TIMING: Loading ligand coordinates took 0.150 s\n",
      "TIMING: Centroid processing took 0.000 s\n",
      "TIMING: Loading protein coordinates took 3.314 s\n",
      "TIMING: Loading protein coordinates took 4.839 s\n",
      "TIMING: Loading ligand coordinates took 0.145 s\n",
      "TIMING: Centroid processing took 0.000 s\n",
      "TIMING: Loading ligand coordinates took 2.054 s\n",
      "TIMING: Centroid processing took 0.000 s\n",
      "TIMING: Loading protein coordinates took 90.360 s\n",
      "TIMING: Loading ligand coordinates took 0.403 s\n",
      "TIMING: Centroid processing took 0.000 s\n",
      "TIMING: Loading protein coordinates took 11.103 s\n",
      "TIMING: Loading ligand coordinates took 0.413 s\n",
      "TIMING: Centroid processing took 0.000 s\n",
      "TIMING: Loading protein coordinates took 31.874 s\n",
      "TIMING: Loading protein coordinates took 7.705 s\n",
      "TIMING: Loading ligand coordinates took 0.458 s\n",
      "TIMING: Centroid processing took 0.000 s\n",
      "TIMING: Loading ligand coordinates took 0.166 s\n",
      "TIMING: Centroid processing took 0.000 s\n",
      "TIMING: Loading protein coordinates took 7.941 s\n",
      "TIMING: Loading protein coordinates took 4.478 s\n",
      "TIMING: Loading ligand coordinates took 2.000 s\n",
      "TIMING: Centroid processing took 0.000 s\n",
      "TIMING: Loading ligand coordinates took 2.013 s\n",
      "TIMING: Centroid processing took 0.000 s\n",
      "TIMING: Loading protein coordinates took 14.570 s\n",
      "TIMING: Loading ligand coordinates took 0.370 s\n",
      "TIMING: Centroid processing took 0.000 s\n",
      "TIMING: Loading protein coordinates took 16.763 s\n",
      "TIMING: Loading ligand coordinates took 0.137 s\n",
      "TIMING: Centroid processing took 0.000 s\n",
      "TIMING: Loading protein coordinates took 13.286 s\n",
      "TIMING: Loading ligand coordinates took 0.174 s\n",
      "TIMING: Centroid processing took 0.000 s\n",
      "TIMING: Loading protein coordinates took 5.481 s\n",
      "TIMING: Loading ligand coordinates took 0.389 s\n",
      "TIMING: Centroid processing took 0.000 s\n",
      "TIMING: Loading protein coordinates took 7.698 s\n",
      "TIMING: Loading ligand coordinates took 0.383 s\n",
      "TIMING: Centroid processing took 0.000 s\n",
      "TIMING: Loading protein coordinates took 40.499 s\n",
      "TIMING: Loading ligand coordinates took 0.144 s\n",
      "TIMING: Centroid processing took 0.001 s\n",
      "TIMING: Loading protein coordinates took 6.058 s\n",
      "TIMING: Loading ligand coordinates took 0.217 s\n",
      "TIMING: Centroid processing took 0.000 s\n",
      "TIMING: Loading protein coordinates took 4.499 s\n",
      "TIMING: Loading protein coordinates took 6.659 s\n",
      "TIMING: Loading protein coordinates took 13.136 s\n",
      "TIMING: Loading ligand coordinates took 0.351 s\n",
      "TIMING: Centroid processing took 0.000 s\n",
      "TIMING: Loading protein coordinates took 6.922 s\n",
      "TIMING: Loading ligand coordinates took 1.998 s\n",
      "TIMING: Loading ligand coordinates took 2.029 sTIMING: Centroid processing took 0.000 s\n",
      "\n",
      "TIMING: Centroid processing took 0.000 s\n",
      "TIMING: Loading protein coordinates took 5.519 s\n",
      "TIMING: Loading ligand coordinates took 1.975 s\n",
      "TIMING: Centroid processing took 0.000 s\n",
      "TIMING: Loading protein coordinates took 4.584 s\n",
      "TIMING: Loading ligand coordinates took 0.376 s\n",
      "TIMING: Centroid processing took 0.000 s\n",
      "TIMING: Loading ligand coordinates took 0.326 s\n",
      "TIMING: Centroid processing took 0.000 s\n",
      "TIMING: Loading protein coordinates took 3.932 s\n",
      "TIMING: Loading protein coordinates took 5.854 s\n",
      "TIMING: Loading ligand coordinates took 0.371 s\n",
      "TIMING: Centroid processing took 0.002 s\n",
      "TIMING: Loading ligand coordinates took 1.809 s\n",
      "TIMING: Centroid processing took 0.000 s\n",
      "TIMING: Loading protein coordinates took 5.757 s\n",
      "TIMING: Loading ligand coordinates took 0.156 s\n",
      "TIMING: Centroid processing took 0.000 s\n",
      "TIMING: Loading protein coordinates took 6.322 s\n",
      "TIMING: Loading ligand coordinates took 0.170 s\n",
      "TIMING: Centroid processing took 0.000 s\n",
      "TIMING: Loading protein coordinates took 7.791 s\n",
      "TIMING: Loading ligand coordinates took 0.218 s\n",
      "TIMING: Centroid processing took 0.000 s\n",
      "TIMING: Loading protein coordinates took 9.347 s\n",
      "TIMING: Loading ligand coordinates took 0.378 s\n",
      "TIMING: Centroid processing took 0.000 s\n",
      "TIMING: Loading protein coordinates took 48.914 s\n",
      "TIMING: Loading protein coordinates took 3.024 s\n",
      "TIMING: Loading protein coordinates took 5.857 s\n",
      "TIMING: Loading ligand coordinates took 0.368 s\n",
      "TIMING: Centroid processing took 0.000 s\n",
      "TIMING: Loading ligand coordinates took 0.436 s\n",
      "TIMING: Centroid processing took 0.000 s\n",
      "TIMING: Loading protein coordinates took 5.749 s\n",
      "TIMING: Loading protein coordinates took 4.614 s\n",
      "TIMING: Loading ligand coordinates took 0.360 s\n",
      "TIMING: Centroid processing took 0.000 s\n",
      "TIMING: Loading protein coordinates took 3.470 s\n",
      "TIMING: Loading ligand coordinates took 0.151 s\n",
      "TIMING: Centroid processing took 0.000 s\n",
      "TIMING: Loading ligand coordinates took 1.795 s\n",
      "TIMING: Centroid processing took 0.000 s\n",
      "TIMING: Loading ligand coordinates took 2.017 s\n",
      "TIMING: Centroid processing took 0.000 s\n",
      "TIMING: Loading protein coordinates took 6.512 s\n",
      "TIMING: Loading protein coordinates took 2.996 sTIMING: Loading ligand coordinates took 0.224 s\n",
      "\n",
      "TIMING: Centroid processing took 0.000 s\n",
      "TIMING: Loading ligand coordinates took 0.149 s\n",
      "TIMING: Centroid processing took 0.000 s\n",
      "TIMING: Loading protein coordinates took 4.525 s\n",
      "TIMING: Loading protein coordinates took 4.795 s\n",
      "TIMING: Loading ligand coordinates took 0.162 s\n",
      "TIMING: Centroid processing took 0.000 s\n",
      "TIMING: Loading ligand coordinates took 1.756 s\n",
      "TIMING: Centroid processing took 0.000 s\n",
      "TIMING: Loading protein coordinates took 6.828 s\n",
      "TIMING: Loading ligand coordinates took 0.132 s\n",
      "TIMING: Centroid processing took 0.000 s\n",
      "TIMING: Loading protein coordinates took 7.084 s\n",
      "TIMING: Loading ligand coordinates took 0.123 s\n",
      "TIMING: Centroid processing took 0.000 s\n",
      "TIMING: Loading protein coordinates took 3.856 s\n",
      "TIMING: Loading ligand coordinates took 1.978 s\n",
      "TIMING: Centroid processing took 0.000 s\n",
      "TIMING: Loading protein coordinates took 11.680 s\n",
      "TIMING: Loading protein coordinates took 3.623 s\n",
      "TIMING: Loading ligand coordinates took 0.142 s\n",
      "TIMING: Centroid processing took 0.000 s\n",
      "TIMING: Loading protein coordinates took 5.740 s\n",
      "TIMING: Loading ligand coordinates took 2.066 s\n",
      "TIMING: Centroid processing took 0.000 s\n"
     ]
    },
    {
     "name": "stdout",
     "output_type": "stream",
     "text": [
      "TIMING: Loading ligand coordinates took 2.011 s\n",
      "TIMING: Centroid processing took 0.000 s\n",
      "TIMING: Loading protein coordinates took 10.322 s\n",
      "TIMING: Loading ligand coordinates took 0.139 s\n",
      "TIMING: Centroid processing took 0.000 s\n",
      "TIMING: Loading protein coordinates took 9.477 s\n",
      "TIMING: Loading ligand coordinates took 0.362 s\n",
      "TIMING: Centroid processing took 0.003 s\n",
      "TIMING: Loading protein coordinates took 5.606 s\n",
      "TIMING: Loading ligand coordinates took 0.539 s\n",
      "TIMING: Centroid processing took 0.000 s\n",
      "TIMING: Loading protein coordinates took 4.217 s\n",
      "TIMING: Loading ligand coordinates took 0.135 s\n",
      "TIMING: Centroid processing took 0.000 s\n",
      "TIMING: Loading protein coordinates took 96.114 s\n",
      "TIMING: Loading ligand coordinates took 0.436 s\n",
      "TIMING: Centroid processing took 0.000 s\n",
      "TIMING: Loading protein coordinates took 7.430 s\n",
      "TIMING: Loading ligand coordinates took 0.126 s\n",
      "TIMING: Centroid processing took 0.000 s\n",
      "TIMING: Loading protein coordinates took 6.064 s\n",
      "TIMING: Loading protein coordinates took 16.837 s\n",
      "TIMING: Loading ligand coordinates took 2.005 s\n",
      "TIMING: Centroid processing took 0.000 s\n",
      "TIMING: Loading protein coordinates took 6.212 s\n",
      "TIMING: Loading ligand coordinates took 1.736 s\n",
      "TIMING: Centroid processing took 0.000 s\n",
      "TIMING: Loading protein coordinates took 11.299 s\n",
      "TIMING: Loading ligand coordinates took 0.359 s\n",
      "TIMING: Centroid processing took 0.000 s\n",
      "TIMING: Loading ligand coordinates took 2.021 s\n",
      "TIMING: Centroid processing took 0.000 s\n",
      "TIMING: Loading protein coordinates took 97.326 s\n",
      "TIMING: Loading ligand coordinates took 0.123 s\n",
      "TIMING: Centroid processing took 0.000 s\n",
      "TIMING: Loading protein coordinates took 3.219 s\n",
      "TIMING: Loading ligand coordinates took 2.091 s\n",
      "TIMING: Centroid processing took 0.000 s\n",
      "TIMING: Loading protein coordinates took 17.455 s\n",
      "TIMING: Loading ligand coordinates took 0.391 s\n",
      "TIMING: Centroid processing took 0.000 s\n",
      "TIMING: Loading protein coordinates took 8.150 s\n",
      "TIMING: Loading ligand coordinates took 0.405 s\n",
      "TIMING: Centroid processing took 0.000 s\n",
      "TIMING: Loading protein coordinates took 16.244 s\n",
      "TIMING: Loading ligand coordinates took 0.353 s\n",
      "TIMING: Centroid processing took 0.000 s\n",
      "TIMING: Loading protein coordinates took 5.331 s\n",
      "TIMING: Loading ligand coordinates took 0.149 s\n",
      "TIMING: Centroid processing took 0.000 s\n",
      "TIMING: Loading protein coordinates took 2.518 s\n",
      "TIMING: Loading ligand coordinates took 2.094 s\n",
      "TIMING: Centroid processing took 0.000 s\n",
      "TIMING: Loading protein coordinates took 2.864 s\n",
      "TIMING: Loading ligand coordinates took 0.734 s\n",
      "TIMING: Centroid processing took 0.000 s\n",
      "TIMING: Loading protein coordinates took 17.661 s\n",
      "TIMING: Loading protein coordinates took 13.399 s\n",
      "TIMING: Loading protein coordinates took 5.807 s\n",
      "TIMING: Loading ligand coordinates took 0.247 s\n",
      "TIMING: Loading ligand coordinates took 0.227 s\n",
      "TIMING: Centroid processing took 0.007 sTIMING: Centroid processing took 0.000 s\n",
      "\n",
      "TIMING: Loading ligand coordinates took 1.883 s\n",
      "TIMING: Centroid processing took 0.000 s\n",
      "TIMING: Loading protein coordinates took 3.204 s\n",
      "TIMING: Loading ligand coordinates took 0.142 s\n",
      "TIMING: Centroid processing took 0.000 s\n",
      "TIMING: Loading protein coordinates took 37.914 s\n",
      "TIMING: Loading ligand coordinates took 0.150 s\n",
      "TIMING: Centroid processing took 0.000 s\n",
      "TIMING: Loading protein coordinates took 4.337 s\n",
      "TIMING: Loading protein coordinates took 5.402 s\n",
      "TIMING: Loading ligand coordinates took 0.418 s\n",
      "TIMING: Centroid processing took 0.000 s\n",
      "TIMING: Loading ligand coordinates took 2.305 s\n",
      "TIMING: Centroid processing took 0.000 s\n",
      "TIMING: Loading protein coordinates took 31.832 s\n",
      "TIMING: Loading ligand coordinates took 0.221 s\n",
      "TIMING: Centroid processing took 0.000 s\n",
      "TIMING: Loading protein coordinates took 7.718 s\n",
      "TIMING: Loading protein coordinates took 11.336 s\n",
      "TIMING: Loading ligand coordinates took 0.442 s\n",
      "TIMING: Centroid processing took 0.000 s\n",
      "TIMING: Loading ligand coordinates took 0.385 s\n",
      "TIMING: Centroid processing took 0.000 s\n",
      "TIMING: Loading protein coordinates took 5.927 s\n",
      "TIMING: Loading ligand coordinates took 0.412 s\n",
      "TIMING: Centroid processing took 0.000 s\n",
      "TIMING: Loading protein coordinates took 5.647 s\n",
      "TIMING: Loading protein coordinates took 5.918 s\n",
      "TIMING: Loading protein coordinates took 12.646 s\n",
      "TIMING: Loading protein coordinates took 5.744 s\n",
      "TIMING: Loading ligand coordinates took 0.173 s\n",
      "TIMING: Centroid processing took 0.000 s\n",
      "TIMING: Loading ligand coordinates took 0.234 s\n",
      "TIMING: Centroid processing took 0.000 s\n",
      "TIMING: Loading ligand coordinates took 0.168 s\n",
      "TIMING: Centroid processing took 0.001 s\n",
      "TIMING: Loading ligand coordinates took 2.125 s\n",
      "TIMING: Centroid processing took 0.000 s\n",
      "TIMING: Loading protein coordinates took 8.350 s\n",
      "TIMING: Loading ligand coordinates took 0.397 s\n",
      "TIMING: Centroid processing took 0.000 s\n",
      "TIMING: Loading protein coordinates took 6.650 s\n",
      "TIMING: Loading ligand coordinates took 0.142 s\n",
      "TIMING: Centroid processing took 0.000 s\n",
      "TIMING: Loading protein coordinates took 9.775 s\n",
      "TIMING: Loading protein coordinates took 3.048 s\n",
      "TIMING: Loading ligand coordinates took 0.422 s\n",
      "TIMING: Centroid processing took 0.000 s\n",
      "TIMING: Loading protein coordinates took 3.324 s\n",
      "TIMING: Loading ligand coordinates took 0.132 s\n",
      "TIMING: Centroid processing took 0.000 s\n",
      "TIMING: Loading ligand coordinates took 1.924 s\n",
      "TIMING: Centroid processing took 0.000 s\n",
      "TIMING: Loading protein coordinates took 6.571 s\n",
      "TIMING: Loading protein coordinates took 3.040 s\n",
      "TIMING: Loading ligand coordinates took 1.674 s\n",
      "TIMING: Centroid processing took 0.000 s\n",
      "TIMING: Loading protein coordinates took 5.523 s\n",
      "TIMING: Loading ligand coordinates took 1.962 s\n",
      "TIMING: Centroid processing took 0.000 s\n",
      "TIMING: Loading protein coordinates took 6.072 s\n",
      "TIMING: Loading ligand coordinates took 1.924 s\n",
      "TIMING: Centroid processing took 0.000 s\n",
      "TIMING: Loading ligand coordinates took 0.164 s\n",
      "TIMING: Centroid processing took 0.000 s\n",
      "TIMING: Loading protein coordinates took 6.253 s\n",
      "TIMING: Loading ligand coordinates took 0.133 s\n",
      "TIMING: Centroid processing took 0.000 s\n",
      "TIMING: Loading protein coordinates took 5.081 s\n",
      "TIMING: Loading protein coordinates took 6.846 s\n",
      "TIMING: Loading ligand coordinates took 0.139 s\n",
      "TIMING: Centroid processing took 0.000 s\n",
      "TIMING: Loading ligand coordinates took 0.171 s\n",
      "TIMING: Centroid processing took 0.000 s\n",
      "TIMING: Loading protein coordinates took 7.346 s\n",
      "TIMING: Loading ligand coordinates took 0.358 s\n",
      "TIMING: Centroid processing took 0.000 s\n",
      "TIMING: Loading protein coordinates took 3.064 s\n",
      "TIMING: Loading ligand coordinates took 0.129 s\n",
      "TIMING: Centroid processing took 0.000 s\n",
      "TIMING: Loading protein coordinates took 4.388 s\n",
      "TIMING: Loading protein coordinates took 5.816 s\n",
      "TIMING: Loading protein coordinates took 3.055 s\n",
      "TIMING: Loading ligand coordinates took 1.690 s\n",
      "TIMING: Centroid processing took 0.000 s\n",
      "TIMING: Loading ligand coordinates took 1.979 s\n",
      "TIMING: Centroid processing took 0.000 s\n",
      "TIMING: Loading protein coordinates took 18.167 s\n",
      "TIMING: Loading ligand coordinates took 1.967 s\n",
      "TIMING: Centroid processing took 0.000 s\n",
      "TIMING: Loading ligand coordinates took 1.850 s\n",
      "TIMING: Centroid processing took 0.000 s\n",
      "TIMING: Loading protein coordinates took 5.091 s\n",
      "TIMING: Loading ligand coordinates took 0.138 s\n",
      "TIMING: Centroid processing took 0.000 s\n",
      "TIMING: Loading protein coordinates took 9.714 s\n",
      "TIMING: Loading protein coordinates took 4.930 s\n",
      "TIMING: Loading protein coordinates took 4.422 s\n",
      "TIMING: Loading ligand coordinates took 0.372 s\n",
      "TIMING: Centroid processing took 0.000 s\n",
      "TIMING: Loading ligand coordinates took 1.960 s\n",
      "TIMING: Centroid processing took 0.000 s\n",
      "TIMING: Loading ligand coordinates took 1.721 s\n",
      "TIMING: Centroid processing took 0.000 s\n",
      "TIMING: Loading protein coordinates took 3.351 s\n",
      "TIMING: Loading ligand coordinates took 0.363 s\n",
      "TIMING: Centroid processing took 0.000 s\n",
      "TIMING: Loading protein coordinates took 13.600 s\n",
      "TIMING: Loading protein coordinates took 6.212 s\n",
      "TIMING: Loading protein coordinates took 38.111 s\n",
      "TIMING: Loading ligand coordinates took 0.390 s\n",
      "TIMING: Centroid processing took 0.000 s\n",
      "TIMING: Loading ligand coordinates took 0.409 s\n",
      "TIMING: Centroid processing took 0.000 s\n"
     ]
    },
    {
     "name": "stdout",
     "output_type": "stream",
     "text": [
      "TIMING: Loading ligand coordinates took 2.105 s\n",
      "TIMING: Centroid processing took 0.000 s\n",
      "TIMING: Loading protein coordinates took 39.005 s\n",
      "TIMING: Loading protein coordinates took 8.245 s\n",
      "TIMING: Loading ligand coordinates took 0.435 s\n",
      "TIMING: Centroid processing took 0.000 s\n",
      "TIMING: Loading ligand coordinates took 0.141 s\n",
      "TIMING: Centroid processing took 0.000 s\n",
      "TIMING: Loading protein coordinates took 5.371 s\n",
      "TIMING: Loading protein coordinates took 4.777 s\n",
      "TIMING: Loading ligand coordinates took 0.257 s\n",
      "TIMING: Centroid processing took 0.000 s\n",
      "TIMING: Loading ligand coordinates took 0.427 s\n",
      "TIMING: Centroid processing took 0.000 s\n",
      "TIMING: Loading protein coordinates took 13.783 s\n",
      "TIMING: Loading protein coordinates took 8.328 s\n",
      "TIMING: Loading protein coordinates took 6.111 s\n",
      "TIMING: Loading ligand coordinates took 1.772 s\n",
      "TIMING: Centroid processing took 0.000 s\n",
      "TIMING: Loading ligand coordinates took 1.960 s\n",
      "TIMING: Centroid processing took 0.000 s\n",
      "TIMING: Loading protein coordinates took 83.900 s\n",
      "TIMING: Loading ligand coordinates took 1.795 s\n",
      "TIMING: Centroid processing took 0.000 s\n",
      "TIMING: Loading ligand coordinates took 2.001 s\n",
      "TIMING: Centroid processing took 0.000 s\n",
      "TIMING: Loading protein coordinates took 5.298 s\n",
      "TIMING: Loading protein coordinates took 6.392 s\n",
      "TIMING: Loading ligand coordinates took 0.380 s\n",
      "TIMING: Centroid processing took 0.000 s\n",
      "TIMING: Loading ligand coordinates took 1.549 s\n",
      "TIMING: Centroid processing took 0.000 s\n",
      "TIMING: Loading protein coordinates took 5.069 s\n",
      "TIMING: Loading ligand coordinates took 0.129 s\n",
      "TIMING: Centroid processing took 0.000 s\n",
      "TIMING: Loading protein coordinates took 28.845 s\n",
      "TIMING: Loading ligand coordinates took 0.127 s\n",
      "TIMING: Centroid processing took 0.000 s\n",
      "TIMING: Loading protein coordinates took 12.617 s\n",
      "TIMING: Loading ligand coordinates took 0.275 s\n",
      "TIMING: Centroid processing took 0.000 s\n",
      "TIMING: Loading protein coordinates took 91.769 s\n",
      "TIMING: Loading ligand coordinates took 0.114 s\n",
      "TIMING: Centroid processing took 0.000 s\n",
      "TIMING: Loading protein coordinates took 16.000 s\n",
      "TIMING: Loading ligand coordinates took 0.243 s\n",
      "TIMING: Centroid processing took 0.000 s\n",
      "TIMING: Loading protein coordinates took 289.091 s\n",
      "TIMING: Loading ligand coordinates took 0.098 s\n",
      "TIMING: Centroid processing took 0.001 s\n",
      "TIMING: Loading protein coordinates took 278.138 s\n",
      "TIMING: Loading ligand coordinates took 0.226 s\n",
      "TIMING: Centroid processing took 0.000 s\n",
      "TIMING: Loading protein coordinates took 56.487 s\n",
      "TIMING: Loading ligand coordinates took 0.225 s\n",
      "TIMING: Centroid processing took 0.000 s\n",
      "TIMING: Loading protein coordinates took 255.907 s\n",
      "TIMING: Loading ligand coordinates took 0.087 s\n",
      "TIMING: Centroid processing took 0.000 s\n",
      "\n",
      "Featurization finished, took 318.689 s.\n",
      "\n",
      "Construct dataset excluding failing featurization elements...\n",
      "TIMING: dataset construction took 0.040 s\n",
      "Loading dataset from disk.\n",
      "\n",
      "Split dataset...\n",
      "\n",
      "TIMING: dataset construction took 0.041 s\n",
      "Loading dataset from disk.\n",
      "TIMING: dataset construction took 0.022 s\n",
      "Loading dataset from disk.\n",
      "TIMING: dataset construction took 0.026 s\n",
      "Loading dataset from disk.\n",
      "\n",
      "Saving dataset to \"/tmp/from-pdbbind/full_protein-core-grid-random\" ...\n"
     ]
    }
   ],
   "source": [
    "tasks, datasets, transformers = dc.molnet.load_pdbbind(featurizer='grid', split='random')\n",
    "train_dataset, valid_dataset, test_dataset = datasets"
   ]
  },
  {
   "cell_type": "code",
   "execution_count": 35,
   "metadata": {},
   "outputs": [
    {
     "name": "stdout",
     "output_type": "stream",
     "text": [
      "WARNING:tensorflow:Entity <bound method SwitchedDropout.call of <deepchem.models.layers.SwitchedDropout object at 0x7fe1e9ca54d0>> could not be transformed and will be executed as-is. Please report this to the AutgoGraph team. When filing the bug, set the verbosity to 10 (on Linux, `export AUTOGRAPH_VERBOSITY=10`) and attach the full output. Cause: converting <bound method SwitchedDropout.call of <deepchem.models.layers.SwitchedDropout object at 0x7fe1e9ca54d0>>: AttributeError: module 'gast' has no attribute 'Index'\n",
      "WARNING: Entity <bound method SwitchedDropout.call of <deepchem.models.layers.SwitchedDropout object at 0x7fe1e9ca54d0>> could not be transformed and will be executed as-is. Please report this to the AutgoGraph team. When filing the bug, set the verbosity to 10 (on Linux, `export AUTOGRAPH_VERBOSITY=10`) and attach the full output. Cause: converting <bound method SwitchedDropout.call of <deepchem.models.layers.SwitchedDropout object at 0x7fe1e9ca54d0>>: AttributeError: module 'gast' has no attribute 'Index'\n",
      "WARNING:tensorflow:Entity <bound method SwitchedDropout.call of <deepchem.models.layers.SwitchedDropout object at 0x7fe1e92e2bd0>> could not be transformed and will be executed as-is. Please report this to the AutgoGraph team. When filing the bug, set the verbosity to 10 (on Linux, `export AUTOGRAPH_VERBOSITY=10`) and attach the full output. Cause: converting <bound method SwitchedDropout.call of <deepchem.models.layers.SwitchedDropout object at 0x7fe1e92e2bd0>>: AttributeError: module 'gast' has no attribute 'Index'\n",
      "WARNING: Entity <bound method SwitchedDropout.call of <deepchem.models.layers.SwitchedDropout object at 0x7fe1e92e2bd0>> could not be transformed and will be executed as-is. Please report this to the AutgoGraph team. When filing the bug, set the verbosity to 10 (on Linux, `export AUTOGRAPH_VERBOSITY=10`) and attach the full output. Cause: converting <bound method SwitchedDropout.call of <deepchem.models.layers.SwitchedDropout object at 0x7fe1e92e2bd0>>: AttributeError: module 'gast' has no attribute 'Index'\n",
      "WARNING:tensorflow:Entity <bound method SwitchedDropout.call of <deepchem.models.layers.SwitchedDropout object at 0x7fe1e9ca54d0>> could not be transformed and will be executed as-is. Please report this to the AutgoGraph team. When filing the bug, set the verbosity to 10 (on Linux, `export AUTOGRAPH_VERBOSITY=10`) and attach the full output. Cause: converting <bound method SwitchedDropout.call of <deepchem.models.layers.SwitchedDropout object at 0x7fe1e9ca54d0>>: AttributeError: module 'gast' has no attribute 'Index'\n",
      "WARNING: Entity <bound method SwitchedDropout.call of <deepchem.models.layers.SwitchedDropout object at 0x7fe1e9ca54d0>> could not be transformed and will be executed as-is. Please report this to the AutgoGraph team. When filing the bug, set the verbosity to 10 (on Linux, `export AUTOGRAPH_VERBOSITY=10`) and attach the full output. Cause: converting <bound method SwitchedDropout.call of <deepchem.models.layers.SwitchedDropout object at 0x7fe1e9ca54d0>>: AttributeError: module 'gast' has no attribute 'Index'\n",
      "WARNING:tensorflow:Entity <bound method SwitchedDropout.call of <deepchem.models.layers.SwitchedDropout object at 0x7fe1e92e2bd0>> could not be transformed and will be executed as-is. Please report this to the AutgoGraph team. When filing the bug, set the verbosity to 10 (on Linux, `export AUTOGRAPH_VERBOSITY=10`) and attach the full output. Cause: converting <bound method SwitchedDropout.call of <deepchem.models.layers.SwitchedDropout object at 0x7fe1e92e2bd0>>: AttributeError: module 'gast' has no attribute 'Index'\n",
      "WARNING: Entity <bound method SwitchedDropout.call of <deepchem.models.layers.SwitchedDropout object at 0x7fe1e92e2bd0>> could not be transformed and will be executed as-is. Please report this to the AutgoGraph team. When filing the bug, set the verbosity to 10 (on Linux, `export AUTOGRAPH_VERBOSITY=10`) and attach the full output. Cause: converting <bound method SwitchedDropout.call of <deepchem.models.layers.SwitchedDropout object at 0x7fe1e92e2bd0>>: AttributeError: module 'gast' has no attribute 'Index'\n"
     ]
    },
    {
     "data": {
      "text/plain": [
       "0.0"
      ]
     },
     "execution_count": 35,
     "metadata": {},
     "output_type": "execute_result"
    }
   ],
   "source": [
    "n_features=train_dataset.X.shape[1]\n",
    "model = dc.models.MultitaskRegressor(\n",
    "    n_tasks=len(tasks),\n",
    "    n_features=n_features,\n",
    "    layer_sizes=[2000,1000],\n",
    "    dropouts=0.5,\n",
    "    learning_rate=0.0003)\n",
    "model.fit(train_dataset, nb_epoch=250)"
   ]
  },
  {
   "cell_type": "markdown",
   "metadata": {},
   "source": [
    "## Splitting datasets to ensure a fair test\n",
    "\n",
    "splitters = ['random', 'scaffold', 'butina']"
   ]
  },
  {
   "cell_type": "code",
   "execution_count": 37,
   "metadata": {},
   "outputs": [
    {
     "name": "stdout",
     "output_type": "stream",
     "text": [
      "Loading raw samples now.\n",
      "shard_size: 8192\n",
      "About to start loading CSV from /tmp/tox21.csv.gz\n",
      "Loading shard 1 of size 8192.\n",
      "Featurizing sample 0\n"
     ]
    },
    {
     "name": "stderr",
     "output_type": "stream",
     "text": [
      "RDKit WARNING: [16:51:25] WARNING: not removing hydrogen atom without neighbors\n"
     ]
    },
    {
     "name": "stdout",
     "output_type": "stream",
     "text": [
      "Featurizing sample 1000\n",
      "Featurizing sample 2000\n",
      "Featurizing sample 3000\n",
      "Featurizing sample 4000\n",
      "Featurizing sample 5000\n",
      "Featurizing sample 6000\n",
      "Featurizing sample 7000\n",
      "TIMING: featurizing shard 0 took 9.297 s\n",
      "TIMING: dataset construction took 9.500 s\n",
      "Loading dataset from disk.\n",
      "Performing butina clustering with cutoff of 0.18\n"
     ]
    },
    {
     "name": "stderr",
     "output_type": "stream",
     "text": [
      "RDKit WARNING: [16:51:35] WARNING: not removing hydrogen atom without neighbors\n"
     ]
    },
    {
     "name": "stdout",
     "output_type": "stream",
     "text": [
      "# of actives per task in valid: [ 4.  1.  2. 23. 29. 14.  1. 32.  5. 11. 34.  2.]\n",
      "Total # of validation points: 286\n",
      "TIMING: dataset construction took 0.264 s\n",
      "Loading dataset from disk.\n",
      "TIMING: dataset construction took 0.089 s\n",
      "Loading dataset from disk.\n",
      "TIMING: dataset construction took 0.001 s\n",
      "Loading dataset from disk.\n",
      "TIMING: dataset construction took 0.245 s\n",
      "Loading dataset from disk.\n",
      "TIMING: dataset construction took 0.012 s\n",
      "Loading dataset from disk.\n"
     ]
    },
    {
     "ename": "UnboundLocalError",
     "evalue": "local variable 'X_shape' referenced before assignment",
     "output_type": "error",
     "traceback": [
      "\u001b[0;31m---------------------------------------------------------------------------\u001b[0m",
      "\u001b[0;31mUnboundLocalError\u001b[0m                         Traceback (most recent call last)",
      "\u001b[0;32m<ipython-input-37-bed44d05cff1>\u001b[0m in \u001b[0;36m<module>\u001b[0;34m\u001b[0m\n\u001b[1;32m      2\u001b[0m \u001b[0mmetric\u001b[0m \u001b[0;34m=\u001b[0m \u001b[0mdc\u001b[0m\u001b[0;34m.\u001b[0m\u001b[0mmetrics\u001b[0m\u001b[0;34m.\u001b[0m\u001b[0mMetric\u001b[0m\u001b[0;34m(\u001b[0m\u001b[0mdc\u001b[0m\u001b[0;34m.\u001b[0m\u001b[0mmetrics\u001b[0m\u001b[0;34m.\u001b[0m\u001b[0mroc_auc_score\u001b[0m\u001b[0;34m)\u001b[0m\u001b[0;34m\u001b[0m\u001b[0;34m\u001b[0m\u001b[0m\n\u001b[1;32m      3\u001b[0m \u001b[0;34m\u001b[0m\u001b[0m\n\u001b[0;32m----> 4\u001b[0;31m \u001b[0mtasks\u001b[0m\u001b[0;34m,\u001b[0m \u001b[0mdatasets\u001b[0m\u001b[0;34m,\u001b[0m \u001b[0mtransformers\u001b[0m \u001b[0;34m=\u001b[0m \u001b[0mdc\u001b[0m\u001b[0;34m.\u001b[0m\u001b[0mmolnet\u001b[0m\u001b[0;34m.\u001b[0m\u001b[0mload_tox21\u001b[0m\u001b[0;34m(\u001b[0m\u001b[0mfeaturizer\u001b[0m\u001b[0;34m=\u001b[0m\u001b[0;34m'ECFP'\u001b[0m\u001b[0;34m,\u001b[0m \u001b[0msplit\u001b[0m\u001b[0;34m=\u001b[0m\u001b[0msplit_method\u001b[0m\u001b[0;34m)\u001b[0m\u001b[0;34m\u001b[0m\u001b[0;34m\u001b[0m\u001b[0m\n\u001b[0m\u001b[1;32m      5\u001b[0m \u001b[0mtrain_dataset\u001b[0m\u001b[0;34m,\u001b[0m \u001b[0mvalid_dataset\u001b[0m\u001b[0;34m,\u001b[0m \u001b[0mtest_dataset\u001b[0m \u001b[0;34m=\u001b[0m \u001b[0mdatasets\u001b[0m\u001b[0;34m\u001b[0m\u001b[0;34m\u001b[0m\u001b[0m\n\u001b[1;32m      6\u001b[0m \u001b[0mmodel\u001b[0m \u001b[0;34m=\u001b[0m \u001b[0mdc\u001b[0m\u001b[0;34m.\u001b[0m\u001b[0mmodels\u001b[0m\u001b[0;34m.\u001b[0m\u001b[0mMultitaskClassifier\u001b[0m\u001b[0;34m(\u001b[0m\u001b[0mn_tasks\u001b[0m\u001b[0;34m=\u001b[0m\u001b[0mlen\u001b[0m\u001b[0;34m(\u001b[0m\u001b[0mtasks\u001b[0m\u001b[0;34m)\u001b[0m\u001b[0;34m,\u001b[0m \u001b[0mn_features\u001b[0m\u001b[0;34m=\u001b[0m\u001b[0;36m1024\u001b[0m\u001b[0;34m,\u001b[0m \u001b[0mlayer_sizes\u001b[0m\u001b[0;34m=\u001b[0m\u001b[0;34m[\u001b[0m\u001b[0;36m1000\u001b[0m\u001b[0;34m]\u001b[0m\u001b[0;34m)\u001b[0m\u001b[0;34m\u001b[0m\u001b[0;34m\u001b[0m\u001b[0m\n",
      "\u001b[0;32m~/anaconda3/envs/ml-for-chemists-tf1/lib/python3.7/site-packages/deepchem/molnet/load_function/tox21_datasets.py\u001b[0m in \u001b[0;36mload_tox21\u001b[0;34m(featurizer, split, reload, K, data_dir, save_dir, **kwargs)\u001b[0m\n\u001b[1;32m    116\u001b[0m       \u001b[0mtrain\u001b[0m \u001b[0;34m=\u001b[0m \u001b[0mtransformer\u001b[0m\u001b[0;34m.\u001b[0m\u001b[0mtransform\u001b[0m\u001b[0;34m(\u001b[0m\u001b[0mtrain\u001b[0m\u001b[0;34m)\u001b[0m\u001b[0;34m\u001b[0m\u001b[0;34m\u001b[0m\u001b[0m\n\u001b[1;32m    117\u001b[0m       \u001b[0mvalid\u001b[0m \u001b[0;34m=\u001b[0m \u001b[0mtransformer\u001b[0m\u001b[0;34m.\u001b[0m\u001b[0mtransform\u001b[0m\u001b[0;34m(\u001b[0m\u001b[0mvalid\u001b[0m\u001b[0;34m)\u001b[0m\u001b[0;34m\u001b[0m\u001b[0;34m\u001b[0m\u001b[0m\n\u001b[0;32m--> 118\u001b[0;31m       \u001b[0mtest\u001b[0m \u001b[0;34m=\u001b[0m \u001b[0mtransformer\u001b[0m\u001b[0;34m.\u001b[0m\u001b[0mtransform\u001b[0m\u001b[0;34m(\u001b[0m\u001b[0mtest\u001b[0m\u001b[0;34m)\u001b[0m\u001b[0;34m\u001b[0m\u001b[0;34m\u001b[0m\u001b[0m\n\u001b[0m\u001b[1;32m    119\u001b[0m \u001b[0;34m\u001b[0m\u001b[0m\n\u001b[1;32m    120\u001b[0m     \u001b[0;32mif\u001b[0m \u001b[0mreload\u001b[0m\u001b[0;34m:\u001b[0m\u001b[0;34m\u001b[0m\u001b[0;34m\u001b[0m\u001b[0m\n",
      "\u001b[0;32m~/anaconda3/envs/ml-for-chemists-tf1/lib/python3.7/site-packages/deepchem/trans/transformers.py\u001b[0m in \u001b[0;36mtransform\u001b[0;34m(self, dataset, parallel)\u001b[0m\n\u001b[1;32m     90\u001b[0m     \u001b[0mAdds\u001b[0m \u001b[0mX\u001b[0m\u001b[0;34m-\u001b[0m\u001b[0mtransform\u001b[0m\u001b[0;34m,\u001b[0m \u001b[0my\u001b[0m\u001b[0;34m-\u001b[0m\u001b[0mtransform\u001b[0m \u001b[0mcolumns\u001b[0m \u001b[0mto\u001b[0m \u001b[0mmetadata\u001b[0m\u001b[0;34m.\u001b[0m\u001b[0;34m\u001b[0m\u001b[0;34m\u001b[0m\u001b[0m\n\u001b[1;32m     91\u001b[0m     \"\"\"\n\u001b[0;32m---> 92\u001b[0;31m     \u001b[0m_\u001b[0m\u001b[0;34m,\u001b[0m \u001b[0my_shape\u001b[0m\u001b[0;34m,\u001b[0m \u001b[0mw_shape\u001b[0m\u001b[0;34m,\u001b[0m \u001b[0m_\u001b[0m \u001b[0;34m=\u001b[0m \u001b[0mdataset\u001b[0m\u001b[0;34m.\u001b[0m\u001b[0mget_shape\u001b[0m\u001b[0;34m(\u001b[0m\u001b[0;34m)\u001b[0m\u001b[0;34m\u001b[0m\u001b[0;34m\u001b[0m\u001b[0m\n\u001b[0m\u001b[1;32m     93\u001b[0m     \u001b[0;32mif\u001b[0m \u001b[0my_shape\u001b[0m \u001b[0;34m==\u001b[0m \u001b[0mtuple\u001b[0m\u001b[0;34m(\u001b[0m\u001b[0;34m)\u001b[0m \u001b[0;32mand\u001b[0m \u001b[0mself\u001b[0m\u001b[0;34m.\u001b[0m\u001b[0mtransform_y\u001b[0m\u001b[0;34m:\u001b[0m\u001b[0;34m\u001b[0m\u001b[0;34m\u001b[0m\u001b[0m\n\u001b[1;32m     94\u001b[0m       \u001b[0;32mraise\u001b[0m \u001b[0mValueError\u001b[0m\u001b[0;34m(\u001b[0m\u001b[0;34m\"Cannot transform y when y_values are not present\"\u001b[0m\u001b[0;34m)\u001b[0m\u001b[0;34m\u001b[0m\u001b[0;34m\u001b[0m\u001b[0m\n",
      "\u001b[0;32m~/anaconda3/envs/ml-for-chemists-tf1/lib/python3.7/site-packages/deepchem/data/datasets.py\u001b[0m in \u001b[0;36mget_shape\u001b[0;34m(self)\u001b[0m\n\u001b[1;32m   1349\u001b[0m           \u001b[0mw_shape\u001b[0m\u001b[0;34m[\u001b[0m\u001b[0;36m0\u001b[0m\u001b[0;34m]\u001b[0m \u001b[0;34m+=\u001b[0m \u001b[0mnp\u001b[0m\u001b[0;34m.\u001b[0m\u001b[0marray\u001b[0m\u001b[0;34m(\u001b[0m\u001b[0mw\u001b[0m\u001b[0;34m.\u001b[0m\u001b[0mshape\u001b[0m\u001b[0;34m)\u001b[0m\u001b[0;34m[\u001b[0m\u001b[0;36m0\u001b[0m\u001b[0;34m]\u001b[0m\u001b[0;34m\u001b[0m\u001b[0;34m\u001b[0m\u001b[0m\n\u001b[1;32m   1350\u001b[0m         \u001b[0mids_shape\u001b[0m\u001b[0;34m[\u001b[0m\u001b[0;36m0\u001b[0m\u001b[0;34m]\u001b[0m \u001b[0;34m+=\u001b[0m \u001b[0mnp\u001b[0m\u001b[0;34m.\u001b[0m\u001b[0marray\u001b[0m\u001b[0;34m(\u001b[0m\u001b[0mids\u001b[0m\u001b[0;34m.\u001b[0m\u001b[0mshape\u001b[0m\u001b[0;34m)\u001b[0m\u001b[0;34m[\u001b[0m\u001b[0;36m0\u001b[0m\u001b[0;34m]\u001b[0m\u001b[0;34m\u001b[0m\u001b[0;34m\u001b[0m\u001b[0m\n\u001b[0;32m-> 1351\u001b[0;31m     \u001b[0;32mreturn\u001b[0m \u001b[0mtuple\u001b[0m\u001b[0;34m(\u001b[0m\u001b[0mX_shape\u001b[0m\u001b[0;34m)\u001b[0m\u001b[0;34m,\u001b[0m \u001b[0mtuple\u001b[0m\u001b[0;34m(\u001b[0m\u001b[0my_shape\u001b[0m\u001b[0;34m)\u001b[0m\u001b[0;34m,\u001b[0m \u001b[0mtuple\u001b[0m\u001b[0;34m(\u001b[0m\u001b[0mw_shape\u001b[0m\u001b[0;34m)\u001b[0m\u001b[0;34m,\u001b[0m \u001b[0mtuple\u001b[0m\u001b[0;34m(\u001b[0m\u001b[0mids_shape\u001b[0m\u001b[0;34m)\u001b[0m\u001b[0;34m\u001b[0m\u001b[0;34m\u001b[0m\u001b[0m\n\u001b[0m\u001b[1;32m   1352\u001b[0m \u001b[0;34m\u001b[0m\u001b[0m\n\u001b[1;32m   1353\u001b[0m   \u001b[0;32mdef\u001b[0m \u001b[0mget_label_means\u001b[0m\u001b[0;34m(\u001b[0m\u001b[0mself\u001b[0m\u001b[0;34m)\u001b[0m\u001b[0;34m:\u001b[0m\u001b[0;34m\u001b[0m\u001b[0;34m\u001b[0m\u001b[0m\n",
      "\u001b[0;31mUnboundLocalError\u001b[0m: local variable 'X_shape' referenced before assignment"
     ]
    }
   ],
   "source": [
    "split_method = 'butina'\n",
    "metric = dc.metrics.Metric(dc.metrics.roc_auc_score)\n",
    "\n",
    "tasks, datasets, transformers = dc.molnet.load_tox21(featurizer='ECFP', split=split_method)\n",
    "train_dataset, valid_dataset, test_dataset = datasets\n",
    "model = dc.models.MultitaskClassifier(n_tasks=len(tasks), n_features=1024, layer_sizes=[1000])\n",
    "model.fit(train_dataset, nb_epoch=10)\n",
    "print('splitter:', splitter)\n",
    "print('training set score:', model.evaluate(train_dataset, [metric], transformers))\n",
    "print('test set score:', model.evaluate(test_dataset, [metric], transformers))\n",
    "print()"
   ]
  },
  {
   "cell_type": "markdown",
   "metadata": {},
   "source": [
    "#### Task: try out the other options for splitting the dataset, which splitting method do you think is the best and why?\n",
    "\n",
    "You may want to run this a few times and think about what the splits mean, do you trust all of the answers?"
   ]
  },
  {
   "cell_type": "code",
   "execution_count": null,
   "metadata": {},
   "outputs": [],
   "source": [
    "splitters = ['random', 'scaffold', 'butina']\n",
    "metric = dc.metrics.Metric(dc.metrics.roc_auc_score)\n",
    "for splitter in splitters:\n",
    "    tasks, datasets, transformers = dc.molnet.load_tox21(featurizer='ECFP', splitter=splitter)\n",
    "    train_dataset, valid_dataset, test_dataset = datasets\n",
    "    model = dc.models.MultitaskClassifier(n_tasks=len(tasks), n_features=1024, layer_sizes=[1000])\n",
    "    model.fit(train_dataset, nb_epoch=10)\n",
    "    print('splitter:', splitter)\n",
    "    print('training set score:', model.evaluate(train_dataset, [metric], transformers))\n",
    "    print('test set score:', model.evaluate(test_dataset, [metric], transformers))\n",
    "    print()"
   ]
  },
  {
   "cell_type": "markdown",
   "metadata": {},
   "source": [
    "*Answer*: The scaffold split seems to give the best solution. The random split results must be rejected because a random split can make the problem too easy if the dataset is not balanced (which this isn't) and the fact that it gives vastly better results than the other two methods suggests that the random split results overestimate the goodness of the model."
   ]
  },
  {
   "cell_type": "code",
   "execution_count": null,
   "metadata": {},
   "outputs": [],
   "source": [
    "tasks, datasets, transformers = dc.molnet.load_tox21(featurizer='GraphConv')\n",
    "train_dataset, valid_dataset, test_dataset = datasets\n",
    "n_tasks = len(tasks)\n",
    "metric = dc.metrics.Metric(dc.metrics.roc_auc_score)"
   ]
  },
  {
   "cell_type": "code",
   "execution_count": null,
   "metadata": {},
   "outputs": [],
   "source": [
    "model = dc.models.GraphConvModel(n_tasks, mode='classification')"
   ]
  },
  {
   "cell_type": "code",
   "execution_count": null,
   "metadata": {},
   "outputs": [],
   "source": [
    "model.tensorboard"
   ]
  },
  {
   "cell_type": "markdown",
   "metadata": {},
   "source": [
    "#### Useful information: "
   ]
  },
  {
   "cell_type": "code",
   "execution_count": null,
   "metadata": {},
   "outputs": [],
   "source": []
  },
  {
   "cell_type": "markdown",
   "metadata": {},
   "source": [
    "##### To see which datasets are available, run the code below.\n",
    "\n",
    "See also: https://deepchem.readthedocs.io/en/latest/api_reference/moleculenet.html \n",
    "which helpfully tells you the option you can use and the best splitter for that dataset"
   ]
  },
  {
   "cell_type": "code",
   "execution_count": null,
   "metadata": {},
   "outputs": [],
   "source": [
    "[method for method in dir(dc.molnet) if \"load_\" in method ]"
   ]
  },
  {
   "cell_type": "code",
   "execution_count": null,
   "metadata": {},
   "outputs": [],
   "source": []
  }
 ],
 "metadata": {
  "kernelspec": {
   "display_name": "Python 3",
   "language": "python",
   "name": "python3"
  },
  "language_info": {
   "codemirror_mode": {
    "name": "ipython",
    "version": 3
   },
   "file_extension": ".py",
   "mimetype": "text/x-python",
   "name": "python",
   "nbconvert_exporter": "python",
   "pygments_lexer": "ipython3",
   "version": "3.7.9"
  }
 },
 "nbformat": 4,
 "nbformat_minor": 2
}
