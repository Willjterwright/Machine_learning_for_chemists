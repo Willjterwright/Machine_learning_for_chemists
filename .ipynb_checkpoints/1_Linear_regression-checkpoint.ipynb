{
 "cells": [
  {
   "cell_type": "markdown",
   "metadata": {},
   "source": [
    "# Linear Regression"
   ]
  },
  {
   "cell_type": "markdown",
   "metadata": {},
   "source": [
    "*Introduction*\n",
    "\n",
    "If we assume that an output data we are interested in is linearly dependent on one or more input data, we can model it using linear regression (you may know this as 'fitting a straight line' to a dataset).\n",
    "\n",
    "This notebook will introduce how to do linear regression in python, and assumes that you know no python. "
   ]
  },
  {
   "cell_type": "markdown",
   "metadata": {},
   "source": [
    "**Regression**: The association between one variable (the *dependent* variable) and one or more *independent* variable\n",
    "\n",
    "The *dependent variable* is also often called *y* or the **target** or **label** or the output data.\n",
    "\n",
    "The *independent variable(s)* are often called *x* or *X* or **features** or the input data. \n",
    "\n",
    "You use regression to fit a **model** to the input data which predicts the output data. \n",
    "\n",
    "(Sorry for the multiple terms for the same thing, different fields talk about the same thing in different ways)."
   ]
  },
  {
   "cell_type": "markdown",
   "metadata": {},
   "source": [
    "First we must import relevant packages (see the next box):\n",
    "\n",
    "`numpy` is numerical python, and has lots of mathematical functions we will need.\n",
    "\n",
    "`pandas` is used to import data\n",
    "\n",
    "`matplotlib` allows us to plot things\n",
    "\n",
    "`skikitlearn` allows us to fit data and do data science and machine learning.\n",
    "\n",
    "Note that, to avoid a lot of typing, we give the packages and shorter name, ie. `np'."
   ]
  },
  {
   "cell_type": "code",
   "execution_count": null,
   "metadata": {},
   "outputs": [],
   "source": [
    "import numpy as np\n",
    "import pandas as pd\n",
    "from matplotlib import pyplot as plt\n",
    "%matplotlib inline  "
   ]
  },
  {
   "cell_type": "markdown",
   "metadata": {},
   "source": [
    "Now, we want some data to fit, for this example, I will generate some data (don't worry about this, we generally want to read in an fit real data rather than generate it!)."
   ]
  },
  {
   "cell_type": "markdown",
   "metadata": {},
   "source": [
    "# Getting the data"
   ]
  },
  {
   "cell_type": "code",
   "execution_count": null,
   "metadata": {},
   "outputs": [],
   "source": [
    "# Generate 'random' data\n",
    "np.random.seed(0)\n",
    "x = 2.5 * np.random.randn(100) + 1.5   # Array of 100 values with mean = 1.5, stddev = 2.5\n",
    "res = 0.5 * np.random.randn(100)       # Generate 100 residual terms\n",
    "y = 2 + 0.3 * x + res                  # Actual values of Y"
   ]
  },
  {
   "cell_type": "markdown",
   "metadata": {},
   "source": [
    "Now we've made some random data called x and y, which is an array. To have a quick look at it, type `x` into the blank cell below and hit cntl-enter"
   ]
  },
  {
   "cell_type": "code",
   "execution_count": null,
   "metadata": {},
   "outputs": [],
   "source": [
    "x"
   ]
  },
  {
   "cell_type": "markdown",
   "metadata": {},
   "source": [
    "# Organising our data"
   ]
  },
  {
   "cell_type": "markdown",
   "metadata": {},
   "source": [
    "Pandas has something called a `DataFrame` which will hold our x and y data (think of it like columns in an excel spreadsheet). We have our data, `x` and `y`, but, like an Excel spreadsheet, we want to label our columns. To do this we make something called a *dictionary*, as below. Here, we've mapped the label X to the data x, and label Y to the data y, note the '' around 'X' and 'Y', this makes these letters a string (i.e. text), rather than anything else. The labels 'X' and 'Y' are the *keys* to the dictionary. \n",
    "\n",
    "*Aside on python terminology:* Dictionaries can be made by mapping the data `x` to the string `'X'` in one go, as below. Alternatively, one can make an empty dictionary like this: `data={}` and add in the data after, like this: `data['X'] = x` and `data['Y'] = y`, note that dictionaries are instantiated with curley brakets, and the keys are put in to them after with square brackets. "
   ]
  },
  {
   "cell_type": "code",
   "execution_count": null,
   "metadata": {},
   "outputs": [],
   "source": [
    "data={'X': x, 'Y': y}"
   ]
  },
  {
   "cell_type": "markdown",
   "metadata": {},
   "source": [
    "Again, why not have a quick look at what this data is by typing `data` in the box below. "
   ]
  },
  {
   "cell_type": "code",
   "execution_count": null,
   "metadata": {},
   "outputs": [],
   "source": []
  },
  {
   "cell_type": "markdown",
   "metadata": {},
   "source": [
    "To get the data back out of our dictionary, we give the dictionary the key using square brackets, like this: `dictionary[key]`. If we wanted the y data back, we would use the key like this: `data['Y']`. Try it out below: "
   ]
  },
  {
   "cell_type": "code",
   "execution_count": null,
   "metadata": {},
   "outputs": [],
   "source": []
  },
  {
   "cell_type": "markdown",
   "metadata": {},
   "source": [
    "OK, now we want the data organised in a better way. In pandas we use a `DataFrame` to organise our data."
   ]
  },
  {
   "cell_type": "code",
   "execution_count": null,
   "metadata": {},
   "outputs": [],
   "source": [
    "# Create pandas dataframe called df to store our X and Y values\n",
    "df = pd.DataFrame(data)"
   ]
  },
  {
   "cell_type": "markdown",
   "metadata": {},
   "source": [
    "Now, lets look at the dataframe and see the data. `df.head()` will show us the top few entries. `df.tail()` will show us the last few. "
   ]
  },
  {
   "cell_type": "code",
   "execution_count": null,
   "metadata": {},
   "outputs": [],
   "source": [
    "# Show the first five rows of our dataframe\n",
    "df.head()"
   ]
  },
  {
   "cell_type": "markdown",
   "metadata": {},
   "source": [
    "Note that, unlike Excel, python starts numbering things with 0, as in 0,1,2,3, ... 99 rather than starting with 1, as in 1,2,3,4, ... 100 so our first row is numbered 0."
   ]
  },
  {
   "cell_type": "markdown",
   "metadata": {},
   "source": [
    "You can look at the last 5 rows in the dataframe `df` by type `df.tail()` in the box below."
   ]
  },
  {
   "cell_type": "code",
   "execution_count": null,
   "metadata": {},
   "outputs": [],
   "source": []
  },
  {
   "cell_type": "markdown",
   "metadata": {},
   "source": [
    "*Aside on python:*\n",
    "\n",
    "When you see something like `x.fun()`, this is a function. Some functions take inputs which would go in the brackets, like `pd.DataFrame()` above which took in `data`, which took in our arrays `x` and `y` along with the labels X and Y. `df.head()` doesn't need an input, but we must still use the `()` so python knows we are trying to call a function."
   ]
  },
  {
   "cell_type": "markdown",
   "metadata": {},
   "source": [
    "Let's plot the data. DataFrames have the function `plot.scatter()` which is called by writing `df.plot.scatter()`, and which tells pandas which two columns to plot against each other by using their labels."
   ]
  },
  {
   "cell_type": "code",
   "execution_count": null,
   "metadata": {},
   "outputs": [],
   "source": [
    "df.plot.scatter(\"X\", \"Y\")"
   ]
  },
  {
   "cell_type": "markdown",
   "metadata": {},
   "source": [
    "# Fitting the data"
   ]
  },
  {
   "cell_type": "markdown",
   "metadata": {},
   "source": [
    "To fit our data, we want to load another package. `sklearn` is a data science and machine learning package available in python. For this example, we are not loading the whole package, we are just taking a function called `LinearRegression` from the `linear_model` part of `sklearn`. The line below will get this package."
   ]
  },
  {
   "cell_type": "code",
   "execution_count": null,
   "metadata": {},
   "outputs": [],
   "source": [
    "from sklearn.linear_model import LinearRegression"
   ]
  },
  {
   "cell_type": "markdown",
   "metadata": {},
   "source": [
    "You're probably familiar with fitting straight lines to data in Excel, this is how we do it in python. First we create a model. In python, this is an object, as you'll see if you type model in the box below, it exists, but currently has no data in it. You can think of an object as a program or app that has a few things that it can do. The technical term for this is that you've instantiated a `LinearRegression` object and have called it `model`. "
   ]
  },
  {
   "cell_type": "code",
   "execution_count": null,
   "metadata": {},
   "outputs": [],
   "source": [
    "model = LinearRegression(fit_intercept=True)"
   ]
  },
  {
   "cell_type": "code",
   "execution_count": null,
   "metadata": {},
   "outputs": [],
   "source": [
    "model"
   ]
  },
  {
   "cell_type": "markdown",
   "metadata": {},
   "source": [
    "Like a program, we can look up what the object is capable of doing, using `dir(model)`, which will give us the directory of functions the model we've instantiated can do. The only functions we care about today are `fit` and `predict` which are at the bottom of the list. Ignore anything starting with __, as these are internal functions you don't want to fiddle with. (N.B. if you just type `dir(model)` you'll get everything that `model` can do including the internal functions. The `[x for x in Y if x[0]!='_']` is a type of list comprehension that will return all the x's in Y if the first character is not an underscore. You don't need to worry about list comprehensions right now, all you need to know is that you can use `dir()` as a directory of what an object can do."
   ]
  },
  {
   "cell_type": "code",
   "execution_count": null,
   "metadata": {},
   "outputs": [],
   "source": [
    "[x for x in dir(model) if x[0]!='_'] "
   ]
  },
  {
   "cell_type": "markdown",
   "metadata": {},
   "source": [
    "Now, we want to use this model object to fit our data. To do this, we call `model.fit()` and put our data in. `model.fit` requires two inputs, for each column of data (we know this as its in the manual:\n",
    "[The manual for all python packages can be found online with a simple google search, click here for the sklearn manual](https://scikit-learn.org/stable/modules/generated/sklearn.linear_model.LinearRegression.html) \n",
    "). \n",
    "\n",
    "`model.fit` requires a DataFrame as its first argument, which we get by calling `df[[\"X\"]]` to get the x data, this could have more than one column, but only has one in our case. the second argument should be the labels, which we have called \"Y\" here, and this should be a series, and is called as `df[\"Y\"]`, note the single brackets. Have a look at the inputs below. Note that `df[[\"X\"]]` is a *column* of length 100 and `df[Y]` is a *list* of 100 targets. "
   ]
  },
  {
   "cell_type": "code",
   "execution_count": null,
   "metadata": {},
   "outputs": [],
   "source": [
    "df[[\"X\"]]"
   ]
  },
  {
   "cell_type": "code",
   "execution_count": null,
   "metadata": {},
   "outputs": [],
   "source": [
    "df[\"Y\"]"
   ]
  },
  {
   "cell_type": "markdown",
   "metadata": {},
   "source": [
    "Once we have created our model, we can fit it to the data by calling the fit() method on it. This takes two arguments:\n",
    "\n",
    "The input data in the shape [n_samples, n_features].\n",
    "The **labels** of the data in the shape [n_samples]\n",
    "\n",
    "We only have 1 **feature**, that of \"X\".\n",
    "\n",
    "Now to fit the `model` to our data, we put the input data (`[[\"X\"]]`) and output data (`[\"Y\"]`) into the `model.fit` function."
   ]
  },
  {
   "cell_type": "code",
   "execution_count": null,
   "metadata": {},
   "outputs": [],
   "source": [
    "model.fit(df[[\"X\"]], df[\"Y\"])"
   ]
  },
  {
   "cell_type": "markdown",
   "metadata": {},
   "source": [
    "Now, `model` fits the data! \n",
    "\n",
    "As we now have a fitted model, we can predict new values that were not in the original data. We're going to use this to plot a straight line fit to this data. "
   ]
  },
  {
   "cell_type": "markdown",
   "metadata": {},
   "source": [
    "First we make a set of x values, `xfit` which should cover the range we plotted over in the figure. (As ever, if you want to check what xfit actually is, you can ask by typing `xfit` into an empty box, to get a new box, hit B in edit mode. Do this to check that xfit goes from -6 to +8)."
   ]
  },
  {
   "cell_type": "code",
   "execution_count": null,
   "metadata": {},
   "outputs": [],
   "source": [
    "# np.linspace(a,b) gives you 50 linearly spaced out values between a and b\n",
    "xfit = np.linspace(-6, 8)"
   ]
  },
  {
   "cell_type": "code",
   "execution_count": null,
   "metadata": {},
   "outputs": [],
   "source": []
  },
  {
   "cell_type": "markdown",
   "metadata": {},
   "source": [
    "Now we use `model.predict()` with our new data to generate our straight line fit. The `predict()` function takes an array of the same shape as the original input data ([n_samples, n_features]) so we use `xfit[:, np.newaxis]` to turn xfit from a list of [50] items to  column of [50, 1] (i.e. 50 rows, 1 column)."
   ]
  },
  {
   "cell_type": "code",
   "execution_count": null,
   "metadata": {},
   "outputs": [],
   "source": [
    "yfit = model.predict(xfit[:, np.newaxis])"
   ]
  },
  {
   "cell_type": "markdown",
   "metadata": {},
   "source": [
    "Now, lets plot the data again, using `df.plot.scatter()` assigning this to an axes object called `ax`. We can then add a second graph to these axes by using `ax.plot`, with the new x data and the fitted values."
   ]
  },
  {
   "cell_type": "code",
   "execution_count": null,
   "metadata": {},
   "outputs": [],
   "source": [
    "# this line does the scatter plot\n",
    "ax = df.plot.scatter(\"X\", \"Y\") \n",
    "# this line adds the best fit line\n",
    "ax.plot(xfit, yfit, linestyle=\":\", color=\"black\")"
   ]
  },
  {
   "cell_type": "markdown",
   "metadata": {},
   "source": [
    "You should see that your data is now has a line of best fit from the model."
   ]
  },
  {
   "cell_type": "markdown",
   "metadata": {},
   "source": [
    "This fits the data to a straight line, with the equation $$y = m x + c,$$ where $m$ is the gradient and $c$ is the intercept. \n",
    "\n",
    "We can get these values from the model, \n",
    "* `model.coeff_[0]` is the first (zero-indexed, remember?) coefficient of the model, this is our gradient $m$. As this is a simple model, there is only have one coefficient. \n",
    "* `model.intercept_` is the intercept, i.e. $c$."
   ]
  },
  {
   "cell_type": "code",
   "execution_count": null,
   "metadata": {},
   "outputs": [],
   "source": [
    "print(\"Model gradient: \", model.coef_[0])\n",
    "print(\"Model intercept:\", model.intercept_)"
   ]
  },
  {
   "cell_type": "markdown",
   "metadata": {},
   "source": [
    "What if we want to predict the value of our fit when X = 10? \n",
    "\n",
    "We could to use the equation %y = m x + c%\n",
    "which is done like this:"
   ]
  },
  {
   "cell_type": "code",
   "execution_count": null,
   "metadata": {},
   "outputs": [],
   "source": [
    "x_test = 10\n",
    "y_test = model.coef_[0] * x_test + model.intercept_\n",
    "print(\"y for y = m *10 + c is {}\".format(y_test))"
   ]
  },
  {
   "cell_type": "markdown",
   "metadata": {},
   "source": [
    "Alternatively, we can use the model to predict the y_test for us"
   ]
  },
  {
   "cell_type": "code",
   "execution_count": null,
   "metadata": {},
   "outputs": [],
   "source": [
    "# you have to create a DataFrame since the LinearRegression model expects it\n",
    "X_new = pd.DataFrame({\"X\": [10]})\n",
    "y_new = model.predict(X_new)\n",
    "print(\"y = {}\".format(y_new))"
   ]
  },
  {
   "cell_type": "markdown",
   "metadata": {},
   "source": [
    "*An aside on terminology* When you've done this previously, you probably talked about fitting a line of best fit to some data, and you get an equation for the line. In this field, you fit a **model** to your data, which, in its simplest may be a striaght line. Note, the input data can be more than one dimension (i.e. you may have several columns of input, i.e `df[['X'],['G'],['Z']]` if we had input data labelled X, G and Z, and this is why the `df[[X]]` input in our code has two square brackets, we could have had several columns of X). The output data (y in this example) is sometimes called **labels**, as each input X can match to an output label which could even be a word like 'alcohol', 'aldehyde', and sometimes called **targets**, as you want to map X to a target. You usually have only one label, so `y` is usually a list, as in the example here, which is why we needed to use a single square bracket."
   ]
  },
  {
   "cell_type": "markdown",
   "metadata": {},
   "source": [
    "Now, we want to know how good our fit is at modelling the data. The most common way to evaluate the overall fit of a linear model is by the R-squared or $R^2$ value. R-squared is the proportion of variance explained, meaning the proportion of variance in the observed data that is explained by the model, or the reduction in error over the null model. (The null model just predicts the mean of the observed response, and thus it has an intercept and no slope.)\n",
    "\n",
    "R-squared is between 0 and 1, and higher is better because it means that more variance is explained by the model. R-squared is the sum of squares of the residuals, and the residuals are the **errrors** between the actual data an the **model**.\n",
    "\n",
    "The R-squared value is given by the `model.score()` function, as below:"
   ]
  },
  {
   "cell_type": "code",
   "execution_count": null,
   "metadata": {},
   "outputs": [],
   "source": [
    "model.score(df[[\"X\"]], df[\"Y\"])"
   ]
  },
  {
   "cell_type": "markdown",
   "metadata": {},
   "source": [
    "An $R^2$ value of 0.71 is pretty good; 71\\% of the variance in the input data has been explained by our model. "
   ]
  },
  {
   "cell_type": "markdown",
   "metadata": {},
   "source": [
    "## 2nd Model"
   ]
  },
  {
   "cell_type": "markdown",
   "metadata": {},
   "source": [
    "As an exercise, fit this randomly generated data. "
   ]
  },
  {
   "cell_type": "code",
   "execution_count": null,
   "metadata": {},
   "outputs": [],
   "source": [
    "np.random.seed(0)\n",
    "x = 5 * np.random.randn(100) + 1.5   # Array of 100 values with mean = 1.5, stddev = 2.5\n",
    "res = 0.75 * np.random.randn(100)       # Generate 100 residual terms\n",
    "y = 5 + 2 * x + res                  # Actual values of Y"
   ]
  },
  {
   "cell_type": "code",
   "execution_count": null,
   "metadata": {},
   "outputs": [],
   "source": []
  },
  {
   "cell_type": "markdown",
   "metadata": {},
   "source": [
    "At this point, you should know how to use linear regression to fit a line to some data, have some experience with using jupyter, and have done your first data analysis in python. \n",
    "\n",
    "The next notebook is 2a_Workbook_Regression_Cellulose."
   ]
  },
  {
   "cell_type": "code",
   "execution_count": null,
   "metadata": {},
   "outputs": [],
   "source": []
  }
 ],
 "metadata": {
  "kernelspec": {
   "display_name": "Python 3",
   "language": "python",
   "name": "python3"
  },
  "language_info": {
   "codemirror_mode": {
    "name": "ipython",
    "version": 3
   },
   "file_extension": ".py",
   "mimetype": "text/x-python",
   "name": "python",
   "nbconvert_exporter": "python",
   "pygments_lexer": "ipython3",
   "version": "3.7.10"
  }
 },
 "nbformat": 4,
 "nbformat_minor": 2
}
